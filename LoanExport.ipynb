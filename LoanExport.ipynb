{
 "cells": [
  {
   "cell_type": "code",
   "execution_count": 80,
   "metadata": {},
   "outputs": [],
   "source": [
    "import time\n",
    "\n",
    "start_time = time.time()"
   ]
  },
  {
   "cell_type": "markdown",
   "metadata": {},
   "source": [
    "#### Analyse"
   ]
  },
  {
   "cell_type": "code",
   "execution_count": 1,
   "metadata": {},
   "outputs": [],
   "source": [
    "import pandas as pd\n",
    "import numpy as np\n",
    "from sklearn.impute import SimpleImputer"
   ]
  },
  {
   "cell_type": "markdown",
   "metadata": {},
   "source": [
    "Import the csv."
   ]
  },
  {
   "cell_type": "code",
   "execution_count": 2,
   "metadata": {},
   "outputs": [
    {
     "ename": "FileNotFoundError",
     "evalue": "[Errno 2] No such file or directory: 'LoanExport.csv'",
     "output_type": "error",
     "traceback": [
      "\u001b[0;31m---------------------------------------------------------------------------\u001b[0m",
      "\u001b[0;31mFileNotFoundError\u001b[0m                         Traceback (most recent call last)",
      "Cell \u001b[0;32mIn[2], line 1\u001b[0m\n\u001b[0;32m----> 1\u001b[0m df \u001b[38;5;241m=\u001b[39m pd\u001b[38;5;241m.\u001b[39mread_csv(\u001b[38;5;124m'\u001b[39m\u001b[38;5;124mLoanExport.csv\u001b[39m\u001b[38;5;124m'\u001b[39m)\n",
      "File \u001b[0;32m/opt/anaconda3/lib/python3.12/site-packages/pandas/io/parsers/readers.py:1026\u001b[0m, in \u001b[0;36mread_csv\u001b[0;34m(filepath_or_buffer, sep, delimiter, header, names, index_col, usecols, dtype, engine, converters, true_values, false_values, skipinitialspace, skiprows, skipfooter, nrows, na_values, keep_default_na, na_filter, verbose, skip_blank_lines, parse_dates, infer_datetime_format, keep_date_col, date_parser, date_format, dayfirst, cache_dates, iterator, chunksize, compression, thousands, decimal, lineterminator, quotechar, quoting, doublequote, escapechar, comment, encoding, encoding_errors, dialect, on_bad_lines, delim_whitespace, low_memory, memory_map, float_precision, storage_options, dtype_backend)\u001b[0m\n\u001b[1;32m   1013\u001b[0m kwds_defaults \u001b[38;5;241m=\u001b[39m _refine_defaults_read(\n\u001b[1;32m   1014\u001b[0m     dialect,\n\u001b[1;32m   1015\u001b[0m     delimiter,\n\u001b[0;32m   (...)\u001b[0m\n\u001b[1;32m   1022\u001b[0m     dtype_backend\u001b[38;5;241m=\u001b[39mdtype_backend,\n\u001b[1;32m   1023\u001b[0m )\n\u001b[1;32m   1024\u001b[0m kwds\u001b[38;5;241m.\u001b[39mupdate(kwds_defaults)\n\u001b[0;32m-> 1026\u001b[0m \u001b[38;5;28;01mreturn\u001b[39;00m _read(filepath_or_buffer, kwds)\n",
      "File \u001b[0;32m/opt/anaconda3/lib/python3.12/site-packages/pandas/io/parsers/readers.py:620\u001b[0m, in \u001b[0;36m_read\u001b[0;34m(filepath_or_buffer, kwds)\u001b[0m\n\u001b[1;32m    617\u001b[0m _validate_names(kwds\u001b[38;5;241m.\u001b[39mget(\u001b[38;5;124m\"\u001b[39m\u001b[38;5;124mnames\u001b[39m\u001b[38;5;124m\"\u001b[39m, \u001b[38;5;28;01mNone\u001b[39;00m))\n\u001b[1;32m    619\u001b[0m \u001b[38;5;66;03m# Create the parser.\u001b[39;00m\n\u001b[0;32m--> 620\u001b[0m parser \u001b[38;5;241m=\u001b[39m TextFileReader(filepath_or_buffer, \u001b[38;5;241m*\u001b[39m\u001b[38;5;241m*\u001b[39mkwds)\n\u001b[1;32m    622\u001b[0m \u001b[38;5;28;01mif\u001b[39;00m chunksize \u001b[38;5;129;01mor\u001b[39;00m iterator:\n\u001b[1;32m    623\u001b[0m     \u001b[38;5;28;01mreturn\u001b[39;00m parser\n",
      "File \u001b[0;32m/opt/anaconda3/lib/python3.12/site-packages/pandas/io/parsers/readers.py:1620\u001b[0m, in \u001b[0;36mTextFileReader.__init__\u001b[0;34m(self, f, engine, **kwds)\u001b[0m\n\u001b[1;32m   1617\u001b[0m     \u001b[38;5;28mself\u001b[39m\u001b[38;5;241m.\u001b[39moptions[\u001b[38;5;124m\"\u001b[39m\u001b[38;5;124mhas_index_names\u001b[39m\u001b[38;5;124m\"\u001b[39m] \u001b[38;5;241m=\u001b[39m kwds[\u001b[38;5;124m\"\u001b[39m\u001b[38;5;124mhas_index_names\u001b[39m\u001b[38;5;124m\"\u001b[39m]\n\u001b[1;32m   1619\u001b[0m \u001b[38;5;28mself\u001b[39m\u001b[38;5;241m.\u001b[39mhandles: IOHandles \u001b[38;5;241m|\u001b[39m \u001b[38;5;28;01mNone\u001b[39;00m \u001b[38;5;241m=\u001b[39m \u001b[38;5;28;01mNone\u001b[39;00m\n\u001b[0;32m-> 1620\u001b[0m \u001b[38;5;28mself\u001b[39m\u001b[38;5;241m.\u001b[39m_engine \u001b[38;5;241m=\u001b[39m \u001b[38;5;28mself\u001b[39m\u001b[38;5;241m.\u001b[39m_make_engine(f, \u001b[38;5;28mself\u001b[39m\u001b[38;5;241m.\u001b[39mengine)\n",
      "File \u001b[0;32m/opt/anaconda3/lib/python3.12/site-packages/pandas/io/parsers/readers.py:1880\u001b[0m, in \u001b[0;36mTextFileReader._make_engine\u001b[0;34m(self, f, engine)\u001b[0m\n\u001b[1;32m   1878\u001b[0m     \u001b[38;5;28;01mif\u001b[39;00m \u001b[38;5;124m\"\u001b[39m\u001b[38;5;124mb\u001b[39m\u001b[38;5;124m\"\u001b[39m \u001b[38;5;129;01mnot\u001b[39;00m \u001b[38;5;129;01min\u001b[39;00m mode:\n\u001b[1;32m   1879\u001b[0m         mode \u001b[38;5;241m+\u001b[39m\u001b[38;5;241m=\u001b[39m \u001b[38;5;124m\"\u001b[39m\u001b[38;5;124mb\u001b[39m\u001b[38;5;124m\"\u001b[39m\n\u001b[0;32m-> 1880\u001b[0m \u001b[38;5;28mself\u001b[39m\u001b[38;5;241m.\u001b[39mhandles \u001b[38;5;241m=\u001b[39m get_handle(\n\u001b[1;32m   1881\u001b[0m     f,\n\u001b[1;32m   1882\u001b[0m     mode,\n\u001b[1;32m   1883\u001b[0m     encoding\u001b[38;5;241m=\u001b[39m\u001b[38;5;28mself\u001b[39m\u001b[38;5;241m.\u001b[39moptions\u001b[38;5;241m.\u001b[39mget(\u001b[38;5;124m\"\u001b[39m\u001b[38;5;124mencoding\u001b[39m\u001b[38;5;124m\"\u001b[39m, \u001b[38;5;28;01mNone\u001b[39;00m),\n\u001b[1;32m   1884\u001b[0m     compression\u001b[38;5;241m=\u001b[39m\u001b[38;5;28mself\u001b[39m\u001b[38;5;241m.\u001b[39moptions\u001b[38;5;241m.\u001b[39mget(\u001b[38;5;124m\"\u001b[39m\u001b[38;5;124mcompression\u001b[39m\u001b[38;5;124m\"\u001b[39m, \u001b[38;5;28;01mNone\u001b[39;00m),\n\u001b[1;32m   1885\u001b[0m     memory_map\u001b[38;5;241m=\u001b[39m\u001b[38;5;28mself\u001b[39m\u001b[38;5;241m.\u001b[39moptions\u001b[38;5;241m.\u001b[39mget(\u001b[38;5;124m\"\u001b[39m\u001b[38;5;124mmemory_map\u001b[39m\u001b[38;5;124m\"\u001b[39m, \u001b[38;5;28;01mFalse\u001b[39;00m),\n\u001b[1;32m   1886\u001b[0m     is_text\u001b[38;5;241m=\u001b[39mis_text,\n\u001b[1;32m   1887\u001b[0m     errors\u001b[38;5;241m=\u001b[39m\u001b[38;5;28mself\u001b[39m\u001b[38;5;241m.\u001b[39moptions\u001b[38;5;241m.\u001b[39mget(\u001b[38;5;124m\"\u001b[39m\u001b[38;5;124mencoding_errors\u001b[39m\u001b[38;5;124m\"\u001b[39m, \u001b[38;5;124m\"\u001b[39m\u001b[38;5;124mstrict\u001b[39m\u001b[38;5;124m\"\u001b[39m),\n\u001b[1;32m   1888\u001b[0m     storage_options\u001b[38;5;241m=\u001b[39m\u001b[38;5;28mself\u001b[39m\u001b[38;5;241m.\u001b[39moptions\u001b[38;5;241m.\u001b[39mget(\u001b[38;5;124m\"\u001b[39m\u001b[38;5;124mstorage_options\u001b[39m\u001b[38;5;124m\"\u001b[39m, \u001b[38;5;28;01mNone\u001b[39;00m),\n\u001b[1;32m   1889\u001b[0m )\n\u001b[1;32m   1890\u001b[0m \u001b[38;5;28;01massert\u001b[39;00m \u001b[38;5;28mself\u001b[39m\u001b[38;5;241m.\u001b[39mhandles \u001b[38;5;129;01mis\u001b[39;00m \u001b[38;5;129;01mnot\u001b[39;00m \u001b[38;5;28;01mNone\u001b[39;00m\n\u001b[1;32m   1891\u001b[0m f \u001b[38;5;241m=\u001b[39m \u001b[38;5;28mself\u001b[39m\u001b[38;5;241m.\u001b[39mhandles\u001b[38;5;241m.\u001b[39mhandle\n",
      "File \u001b[0;32m/opt/anaconda3/lib/python3.12/site-packages/pandas/io/common.py:873\u001b[0m, in \u001b[0;36mget_handle\u001b[0;34m(path_or_buf, mode, encoding, compression, memory_map, is_text, errors, storage_options)\u001b[0m\n\u001b[1;32m    868\u001b[0m \u001b[38;5;28;01melif\u001b[39;00m \u001b[38;5;28misinstance\u001b[39m(handle, \u001b[38;5;28mstr\u001b[39m):\n\u001b[1;32m    869\u001b[0m     \u001b[38;5;66;03m# Check whether the filename is to be opened in binary mode.\u001b[39;00m\n\u001b[1;32m    870\u001b[0m     \u001b[38;5;66;03m# Binary mode does not support 'encoding' and 'newline'.\u001b[39;00m\n\u001b[1;32m    871\u001b[0m     \u001b[38;5;28;01mif\u001b[39;00m ioargs\u001b[38;5;241m.\u001b[39mencoding \u001b[38;5;129;01mand\u001b[39;00m \u001b[38;5;124m\"\u001b[39m\u001b[38;5;124mb\u001b[39m\u001b[38;5;124m\"\u001b[39m \u001b[38;5;129;01mnot\u001b[39;00m \u001b[38;5;129;01min\u001b[39;00m ioargs\u001b[38;5;241m.\u001b[39mmode:\n\u001b[1;32m    872\u001b[0m         \u001b[38;5;66;03m# Encoding\u001b[39;00m\n\u001b[0;32m--> 873\u001b[0m         handle \u001b[38;5;241m=\u001b[39m \u001b[38;5;28mopen\u001b[39m(\n\u001b[1;32m    874\u001b[0m             handle,\n\u001b[1;32m    875\u001b[0m             ioargs\u001b[38;5;241m.\u001b[39mmode,\n\u001b[1;32m    876\u001b[0m             encoding\u001b[38;5;241m=\u001b[39mioargs\u001b[38;5;241m.\u001b[39mencoding,\n\u001b[1;32m    877\u001b[0m             errors\u001b[38;5;241m=\u001b[39merrors,\n\u001b[1;32m    878\u001b[0m             newline\u001b[38;5;241m=\u001b[39m\u001b[38;5;124m\"\u001b[39m\u001b[38;5;124m\"\u001b[39m,\n\u001b[1;32m    879\u001b[0m         )\n\u001b[1;32m    880\u001b[0m     \u001b[38;5;28;01melse\u001b[39;00m:\n\u001b[1;32m    881\u001b[0m         \u001b[38;5;66;03m# Binary mode\u001b[39;00m\n\u001b[1;32m    882\u001b[0m         handle \u001b[38;5;241m=\u001b[39m \u001b[38;5;28mopen\u001b[39m(handle, ioargs\u001b[38;5;241m.\u001b[39mmode)\n",
      "\u001b[0;31mFileNotFoundError\u001b[0m: [Errno 2] No such file or directory: 'LoanExport.csv'"
     ]
    }
   ],
   "source": [
    "df = pd.read_csv('LoanExport.csv')"
   ]
  },
  {
   "cell_type": "markdown",
   "metadata": {},
   "source": [
    "Analyse the shape, how many entries & columns there are."
   ]
  },
  {
   "cell_type": "code",
   "execution_count": 83,
   "metadata": {},
   "outputs": [
    {
     "data": {
      "text/plain": [
       "(291451, 28)"
      ]
     },
     "execution_count": 83,
     "metadata": {},
     "output_type": "execute_result"
    }
   ],
   "source": [
    "df.shape"
   ]
  },
  {
   "cell_type": "markdown",
   "metadata": {},
   "source": [
    "Looking at the column names."
   ]
  },
  {
   "cell_type": "code",
   "execution_count": 84,
   "metadata": {},
   "outputs": [
    {
     "data": {
      "text/plain": [
       "Index(['CreditScore', 'FirstPaymentDate', 'FirstTimeHomebuyer', 'MaturityDate',\n",
       "       'MSA', 'MIP', 'Units', 'Occupancy', 'OCLTV', 'DTI', 'OrigUPB', 'LTV',\n",
       "       'OrigInterestRate', 'Channel', 'PPM', 'ProductType', 'PropertyState',\n",
       "       'PropertyType', 'PostalCode', 'LoanSeqNum', 'LoanPurpose',\n",
       "       'OrigLoanTerm', 'NumBorrowers', 'SellerName', 'ServicerName',\n",
       "       'EverDelinquent', 'MonthsDelinquent', 'MonthsInRepayment'],\n",
       "      dtype='object')"
      ]
     },
     "execution_count": 84,
     "metadata": {},
     "output_type": "execute_result"
    }
   ],
   "source": [
    "df.columns"
   ]
  },
  {
   "cell_type": "markdown",
   "metadata": {},
   "source": [
    "Looking at the datetypes of the columns, and we see that we have some objects, which we have to change into numeric values to use them in the model, otherwise we cant use them at all."
   ]
  },
  {
   "cell_type": "code",
   "execution_count": 85,
   "metadata": {},
   "outputs": [
    {
     "data": {
      "text/plain": [
       "CreditScore             int64\n",
       "FirstPaymentDate        int64\n",
       "FirstTimeHomebuyer     object\n",
       "MaturityDate            int64\n",
       "MSA                    object\n",
       "MIP                     int64\n",
       "Units                   int64\n",
       "Occupancy              object\n",
       "OCLTV                   int64\n",
       "DTI                     int64\n",
       "OrigUPB                 int64\n",
       "LTV                     int64\n",
       "OrigInterestRate      float64\n",
       "Channel                object\n",
       "PPM                    object\n",
       "ProductType            object\n",
       "PropertyState          object\n",
       "PropertyType           object\n",
       "PostalCode             object\n",
       "LoanSeqNum             object\n",
       "LoanPurpose            object\n",
       "OrigLoanTerm            int64\n",
       "NumBorrowers           object\n",
       "SellerName             object\n",
       "ServicerName           object\n",
       "EverDelinquent          int64\n",
       "MonthsDelinquent        int64\n",
       "MonthsInRepayment       int64\n",
       "dtype: object"
      ]
     },
     "execution_count": 85,
     "metadata": {},
     "output_type": "execute_result"
    }
   ],
   "source": [
    "df.dtypes"
   ]
  },
  {
   "cell_type": "markdown",
   "metadata": {},
   "source": [
    "Printing the head of the csv to get some insights."
   ]
  },
  {
   "cell_type": "code",
   "execution_count": 86,
   "metadata": {},
   "outputs": [
    {
     "data": {
      "text/html": [
       "<div>\n",
       "<style scoped>\n",
       "    .dataframe tbody tr th:only-of-type {\n",
       "        vertical-align: middle;\n",
       "    }\n",
       "\n",
       "    .dataframe tbody tr th {\n",
       "        vertical-align: top;\n",
       "    }\n",
       "\n",
       "    .dataframe thead th {\n",
       "        text-align: right;\n",
       "    }\n",
       "</style>\n",
       "<table border=\"1\" class=\"dataframe\">\n",
       "  <thead>\n",
       "    <tr style=\"text-align: right;\">\n",
       "      <th></th>\n",
       "      <th>CreditScore</th>\n",
       "      <th>FirstPaymentDate</th>\n",
       "      <th>FirstTimeHomebuyer</th>\n",
       "      <th>MaturityDate</th>\n",
       "      <th>MSA</th>\n",
       "      <th>MIP</th>\n",
       "      <th>Units</th>\n",
       "      <th>Occupancy</th>\n",
       "      <th>OCLTV</th>\n",
       "      <th>DTI</th>\n",
       "      <th>...</th>\n",
       "      <th>PostalCode</th>\n",
       "      <th>LoanSeqNum</th>\n",
       "      <th>LoanPurpose</th>\n",
       "      <th>OrigLoanTerm</th>\n",
       "      <th>NumBorrowers</th>\n",
       "      <th>SellerName</th>\n",
       "      <th>ServicerName</th>\n",
       "      <th>EverDelinquent</th>\n",
       "      <th>MonthsDelinquent</th>\n",
       "      <th>MonthsInRepayment</th>\n",
       "    </tr>\n",
       "  </thead>\n",
       "  <tbody>\n",
       "    <tr>\n",
       "      <th>0</th>\n",
       "      <td>0</td>\n",
       "      <td>199902</td>\n",
       "      <td>N</td>\n",
       "      <td>202901</td>\n",
       "      <td>16974</td>\n",
       "      <td>25</td>\n",
       "      <td>1</td>\n",
       "      <td>O</td>\n",
       "      <td>89</td>\n",
       "      <td>27</td>\n",
       "      <td>...</td>\n",
       "      <td>60400</td>\n",
       "      <td>F199Q1268030</td>\n",
       "      <td>P</td>\n",
       "      <td>360</td>\n",
       "      <td>2</td>\n",
       "      <td>FL</td>\n",
       "      <td>WASHINGTONMUTUALBANK</td>\n",
       "      <td>0</td>\n",
       "      <td>0</td>\n",
       "      <td>52</td>\n",
       "    </tr>\n",
       "    <tr>\n",
       "      <th>1</th>\n",
       "      <td>0</td>\n",
       "      <td>199902</td>\n",
       "      <td>N</td>\n",
       "      <td>202901</td>\n",
       "      <td>19740</td>\n",
       "      <td>0</td>\n",
       "      <td>1</td>\n",
       "      <td>O</td>\n",
       "      <td>73</td>\n",
       "      <td>17</td>\n",
       "      <td>...</td>\n",
       "      <td>80200</td>\n",
       "      <td>F199Q1015092</td>\n",
       "      <td>N</td>\n",
       "      <td>360</td>\n",
       "      <td>1</td>\n",
       "      <td>FT</td>\n",
       "      <td>CHASEHOMEFINANCELLC</td>\n",
       "      <td>0</td>\n",
       "      <td>0</td>\n",
       "      <td>144</td>\n",
       "    </tr>\n",
       "    <tr>\n",
       "      <th>2</th>\n",
       "      <td>0</td>\n",
       "      <td>199902</td>\n",
       "      <td>N</td>\n",
       "      <td>202901</td>\n",
       "      <td>29940</td>\n",
       "      <td>0</td>\n",
       "      <td>1</td>\n",
       "      <td>O</td>\n",
       "      <td>75</td>\n",
       "      <td>16</td>\n",
       "      <td>...</td>\n",
       "      <td>66000</td>\n",
       "      <td>F199Q1266886</td>\n",
       "      <td>N</td>\n",
       "      <td>360</td>\n",
       "      <td>2</td>\n",
       "      <td>FL</td>\n",
       "      <td>WASHINGTONMUTUALBANK</td>\n",
       "      <td>0</td>\n",
       "      <td>0</td>\n",
       "      <td>67</td>\n",
       "    </tr>\n",
       "    <tr>\n",
       "      <th>3</th>\n",
       "      <td>0</td>\n",
       "      <td>199902</td>\n",
       "      <td>N</td>\n",
       "      <td>202901</td>\n",
       "      <td>31084</td>\n",
       "      <td>0</td>\n",
       "      <td>1</td>\n",
       "      <td>O</td>\n",
       "      <td>76</td>\n",
       "      <td>14</td>\n",
       "      <td>...</td>\n",
       "      <td>90700</td>\n",
       "      <td>F199Q1178167</td>\n",
       "      <td>N</td>\n",
       "      <td>360</td>\n",
       "      <td>2</td>\n",
       "      <td>GM</td>\n",
       "      <td>GMACMTGECORP</td>\n",
       "      <td>0</td>\n",
       "      <td>0</td>\n",
       "      <td>35</td>\n",
       "    </tr>\n",
       "    <tr>\n",
       "      <th>4</th>\n",
       "      <td>0</td>\n",
       "      <td>199902</td>\n",
       "      <td>N</td>\n",
       "      <td>202901</td>\n",
       "      <td>35644</td>\n",
       "      <td>0</td>\n",
       "      <td>1</td>\n",
       "      <td>O</td>\n",
       "      <td>78</td>\n",
       "      <td>18</td>\n",
       "      <td>...</td>\n",
       "      <td>7600</td>\n",
       "      <td>F199Q1178517</td>\n",
       "      <td>N</td>\n",
       "      <td>360</td>\n",
       "      <td>2</td>\n",
       "      <td>GM</td>\n",
       "      <td>GMACMTGECORP</td>\n",
       "      <td>0</td>\n",
       "      <td>0</td>\n",
       "      <td>54</td>\n",
       "    </tr>\n",
       "  </tbody>\n",
       "</table>\n",
       "<p>5 rows × 28 columns</p>\n",
       "</div>"
      ],
      "text/plain": [
       "   CreditScore  FirstPaymentDate FirstTimeHomebuyer  MaturityDate    MSA  MIP  \\\n",
       "0            0            199902                  N        202901  16974   25   \n",
       "1            0            199902                  N        202901  19740    0   \n",
       "2            0            199902                  N        202901  29940    0   \n",
       "3            0            199902                  N        202901  31084    0   \n",
       "4            0            199902                  N        202901  35644    0   \n",
       "\n",
       "   Units Occupancy  OCLTV  DTI  ...  PostalCode    LoanSeqNum  LoanPurpose  \\\n",
       "0      1         O     89   27  ...       60400  F199Q1268030            P   \n",
       "1      1         O     73   17  ...       80200  F199Q1015092            N   \n",
       "2      1         O     75   16  ...       66000  F199Q1266886            N   \n",
       "3      1         O     76   14  ...       90700  F199Q1178167            N   \n",
       "4      1         O     78   18  ...        7600  F199Q1178517            N   \n",
       "\n",
       "  OrigLoanTerm NumBorrowers SellerName          ServicerName EverDelinquent  \\\n",
       "0          360            2         FL  WASHINGTONMUTUALBANK              0   \n",
       "1          360            1         FT  CHASEHOMEFINANCELLC               0   \n",
       "2          360            2         FL  WASHINGTONMUTUALBANK              0   \n",
       "3          360            2         GM  GMACMTGECORP                      0   \n",
       "4          360            2         GM  GMACMTGECORP                      0   \n",
       "\n",
       "  MonthsDelinquent MonthsInRepayment  \n",
       "0                0                52  \n",
       "1                0               144  \n",
       "2                0                67  \n",
       "3                0                35  \n",
       "4                0                54  \n",
       "\n",
       "[5 rows x 28 columns]"
      ]
     },
     "execution_count": 86,
     "metadata": {},
     "output_type": "execute_result"
    }
   ],
   "source": [
    "df.head()"
   ]
  },
  {
   "cell_type": "markdown",
   "metadata": {},
   "source": [
    "#### Description of each column of our dataset:\n",
    "    \n",
    "1 .CreditScore :- Credit score of the client\n",
    "\n",
    "2.FirstPaymentDate :-The month and year that the first scheduled payment on the loan is due\n",
    "\n",
    "3.FirstTimeHomebuyer :-The indicator denoting whether a borrower on the loan qualifies as a first-time homebuyer.\n",
    "“Not Available” will be indicated by 9. \n",
    "Y = Yes\n",
    "N = No\n",
    "x = Not Available\n",
    "\n",
    "4.MaturityDate :-The maturity date of the mortgage\n",
    "\n",
    "5.MSA :-For reperforming, modified fixed-rate and modified step-rate loans, the dollar amount of the loan in the security \n",
    "as stated on the note at the time the loans were originated or modified.\n",
    "\n",
    "6.MIP(Mortgage Insurance Percent MI %):-The percentage of mortgage insurance coverage obtained at origination in effect at the time the security was \n",
    "issued.000= No MI\n",
    "999= Not Available\n",
    "\n",
    "7.Units:-The number of dwelling units in the mortgaged property at the time the loan was originated. “Not Available” will \n",
    "be indicated by 99. \n",
    "\n",
    "8.Occupancy:-occupancy status at the time the loan was originated.\n",
    "P= Primary Residence\n",
    "S= Second Home\n",
    "I= Investment Property\n",
    "9= Not Available\n",
    "\n",
    "9.OCLTV(outstanding loans at origination by the value of the property. ):-For reperforming, modified fixed-rate and modified step-rate loans, the ratio, expressed as a percentage, \n",
    "obtained by dividing the amount of all known outstanding loans at origination by the value of the property.\n",
    "Property value reflects either the lesser of the sales price or the appraised property value for a purchase, or the \n",
    "appraised property value for a refinance.\n",
    "999 = Not Available\n",
    "\n",
    "10.DTI(Dept_to_income) :-The ratio obtained by dividing the total monthly debt expense by the total monthly income of the borrower at the time the loan was originated or modified.This number is one way lenders measure your ability to manage the monthly payments to repay the money you plan to borrow.\n",
    "\n",
    "11.OrigUPB(unpaid principal balance):- For reperforming, modified fixed-rate and modified step-rate loans, the current non-interest bearing unpaid principal balance.\n",
    "\n",
    "12.LTV (Loan_to_value):- The ratio, expressed as a percentage, obtained by dividing the amount of the loan at origination by the value of  the property(Percentages less than 1% or greater than 998% will be disclosed as “Not Available,” indicated by 999. \n",
    "999 = Not Available).The higher your down payment, the lower your LTV ratio. Mortgage lenders may use the LTV in deciding whether to lend to you and to determine if they will require private mortgage insurance\n",
    "\n",
    "13.OrigInterestRate:- For reperforming, modified fixed-rate and modified step-rate loans, the interest rate of the loan as stated on the \n",
    "note at the time the loan was originated.\n",
    "If value <0 or >25, then the rate is considered not available (securities issued on or after 9/1/2017)\n",
    "\n",
    "~~14.Channel:-The origination channel used by the party that delivered the loan to the issuer~~\n",
    "\n",
    "15.PPM :-The indicator denoting whether the borrower is subject to a penalty for early payment of principal.\n",
    "Y = Yes\n",
    "N = No\n",
    "\n",
    "~~16.ProductType (Origination Amortization Type):-For reperforming, modified fixed-rate and modified step-rate loans, the classification of the loan as having either a fixed- or an adjustable-interest rate as stated on the note at the time the loan was originated.~~\n",
    "\n",
    "~~17.PropertyState :-The abbreviation denoting the location of the property securing the loan.~~\n",
    "\n",
    "18.PropertyType :;The classification describing the type of property that secures the loan. “Not Available” will be indicated by 99. \n",
    "CP = Cooperative\n",
    "CO = Condominium\n",
    "PU = Planned Unit Development\n",
    "SF = Single-Family\n",
    "MH = Manufactured Housing\n",
    "99 = Not Available\n",
    "\n",
    "~~19.PostalCode:-PostalCode of the property.~~\n",
    "\n",
    "20.LoanSeqNum:- Sequence no. of the loan.\n",
    "\n",
    "21.LoanPurpose:-The classification describing the purpose of the loan.\n",
    "C = Refinance - Cash Out\n",
    "N = Refinance - No Cash Out\n",
    "R = Refinance - Not Specified\n",
    "P = Purchase\n",
    "9 = Not Available\n",
    "    \n",
    "22.OrigLoanTerm :-For reperforming, modified fixed-rate and modified step-rate loans, the number of months in which regularly \n",
    "scheduled borrower payments are due as stated on the note at the time the loan was originated.\n",
    "\n",
    "23.NumBorrowers:-The number of borrowers who, at the time the loan was originated, are obligated to repay the loan\n",
    "\n",
    "~~24.SellerName :-The name of the entity that sold the loan to the issuer. This field will not be updated after issuance, regardless of mergers/acquisitions.~~\n",
    "\n",
    "~~25.ServicerName :-The name of the entity that services the loan during the current reporting period.~~\n",
    "\n",
    "26.EverDelinquent:-Identify Delinquent .A mortgage becomes delinquent when the borrower has missed or been late with one or more payments\n",
    "    0 = Current\n",
    "    1 = 30-59\n",
    "    2 = 60-89\n",
    "    3 = 90-119\n",
    "    4 = 120+                \n",
    "\n",
    "27.MonthsDelinquent ( month science last Delinquent ):-For reperforming, modified and modified step-rate loans, the number of months for which a mortgage loan has been reported delinquent.\n",
    "\n",
    "28.MonthsInRepayment:-Repayment is the act of paying back money previously borrowed from a lende.                                     "
   ]
  },
  {
   "cell_type": "markdown",
   "metadata": {},
   "source": [
    "Checking if csv has some null-values."
   ]
  },
  {
   "cell_type": "code",
   "execution_count": 87,
   "metadata": {},
   "outputs": [
    {
     "data": {
      "text/plain": [
       "CreditScore               0\n",
       "FirstPaymentDate          0\n",
       "FirstTimeHomebuyer        0\n",
       "MaturityDate              0\n",
       "MSA                       0\n",
       "MIP                       0\n",
       "Units                     0\n",
       "Occupancy                 0\n",
       "OCLTV                     0\n",
       "DTI                       0\n",
       "OrigUPB                   0\n",
       "LTV                       0\n",
       "OrigInterestRate          0\n",
       "Channel                   0\n",
       "PPM                       0\n",
       "ProductType               0\n",
       "PropertyState             0\n",
       "PropertyType              0\n",
       "PostalCode                0\n",
       "LoanSeqNum                0\n",
       "LoanPurpose               0\n",
       "OrigLoanTerm              0\n",
       "NumBorrowers              0\n",
       "SellerName            24994\n",
       "ServicerName              0\n",
       "EverDelinquent            0\n",
       "MonthsDelinquent          0\n",
       "MonthsInRepayment         0\n",
       "dtype: int64"
      ]
     },
     "execution_count": 87,
     "metadata": {},
     "output_type": "execute_result"
    }
   ],
   "source": [
    "df.isnull().sum()"
   ]
  },
  {
   "cell_type": "markdown",
   "metadata": {},
   "source": [
    "As we se 'SellerName' is the only column with null-values, but we dont need it anyways so we drop it."
   ]
  },
  {
   "cell_type": "code",
   "execution_count": 88,
   "metadata": {},
   "outputs": [],
   "source": [
    "df.drop(columns=['SellerName'],inplace=True)"
   ]
  },
  {
   "cell_type": "markdown",
   "metadata": {},
   "source": [
    "Recheck if its gone."
   ]
  },
  {
   "cell_type": "code",
   "execution_count": 89,
   "metadata": {},
   "outputs": [
    {
     "data": {
      "text/plain": [
       "CreditScore           0\n",
       "FirstPaymentDate      0\n",
       "FirstTimeHomebuyer    0\n",
       "MaturityDate          0\n",
       "MSA                   0\n",
       "MIP                   0\n",
       "Units                 0\n",
       "Occupancy             0\n",
       "OCLTV                 0\n",
       "DTI                   0\n",
       "OrigUPB               0\n",
       "LTV                   0\n",
       "OrigInterestRate      0\n",
       "Channel               0\n",
       "PPM                   0\n",
       "ProductType           0\n",
       "PropertyState         0\n",
       "PropertyType          0\n",
       "PostalCode            0\n",
       "LoanSeqNum            0\n",
       "LoanPurpose           0\n",
       "OrigLoanTerm          0\n",
       "NumBorrowers          0\n",
       "ServicerName          0\n",
       "EverDelinquent        0\n",
       "MonthsDelinquent      0\n",
       "MonthsInRepayment     0\n",
       "dtype: int64"
      ]
     },
     "execution_count": 89,
     "metadata": {},
     "output_type": "execute_result"
    }
   ],
   "source": [
    "df.isnull().sum()"
   ]
  },
  {
   "cell_type": "markdown",
   "metadata": {},
   "source": [
    "Überprüfung ob es ganze Zeilen gibt die gleich sind, also duplicate."
   ]
  },
  {
   "cell_type": "code",
   "execution_count": 90,
   "metadata": {},
   "outputs": [
    {
     "data": {
      "text/plain": [
       "0"
      ]
     },
     "execution_count": 90,
     "metadata": {},
     "output_type": "execute_result"
    }
   ],
   "source": [
    "df.duplicated().sum()"
   ]
  },
  {
   "cell_type": "markdown",
   "metadata": {},
   "source": [
    "Getting insights into the df."
   ]
  },
  {
   "cell_type": "code",
   "execution_count": 91,
   "metadata": {},
   "outputs": [
    {
     "name": "stdout",
     "output_type": "stream",
     "text": [
      "<class 'pandas.core.frame.DataFrame'>\n",
      "RangeIndex: 291451 entries, 0 to 291450\n",
      "Data columns (total 27 columns):\n",
      " #   Column              Non-Null Count   Dtype  \n",
      "---  ------              --------------   -----  \n",
      " 0   CreditScore         291451 non-null  int64  \n",
      " 1   FirstPaymentDate    291451 non-null  int64  \n",
      " 2   FirstTimeHomebuyer  291451 non-null  object \n",
      " 3   MaturityDate        291451 non-null  int64  \n",
      " 4   MSA                 291451 non-null  object \n",
      " 5   MIP                 291451 non-null  int64  \n",
      " 6   Units               291451 non-null  int64  \n",
      " 7   Occupancy           291451 non-null  object \n",
      " 8   OCLTV               291451 non-null  int64  \n",
      " 9   DTI                 291451 non-null  int64  \n",
      " 10  OrigUPB             291451 non-null  int64  \n",
      " 11  LTV                 291451 non-null  int64  \n",
      " 12  OrigInterestRate    291451 non-null  float64\n",
      " 13  Channel             291451 non-null  object \n",
      " 14  PPM                 291451 non-null  object \n",
      " 15  ProductType         291451 non-null  object \n",
      " 16  PropertyState       291451 non-null  object \n",
      " 17  PropertyType        291451 non-null  object \n",
      " 18  PostalCode          291451 non-null  object \n",
      " 19  LoanSeqNum          291451 non-null  object \n",
      " 20  LoanPurpose         291451 non-null  object \n",
      " 21  OrigLoanTerm        291451 non-null  int64  \n",
      " 22  NumBorrowers        291451 non-null  object \n",
      " 23  ServicerName        291451 non-null  object \n",
      " 24  EverDelinquent      291451 non-null  int64  \n",
      " 25  MonthsDelinquent    291451 non-null  int64  \n",
      " 26  MonthsInRepayment   291451 non-null  int64  \n",
      "dtypes: float64(1), int64(13), object(13)\n",
      "memory usage: 60.0+ MB\n"
     ]
    }
   ],
   "source": [
    "df.info()"
   ]
  },
  {
   "cell_type": "markdown",
   "metadata": {},
   "source": [
    "### Delete non neccesary columns"
   ]
  },
  {
   "cell_type": "code",
   "execution_count": 92,
   "metadata": {},
   "outputs": [],
   "source": [
    "df.drop([\"Channel\",\"ProductType\",\"PropertyState\",\"PostalCode\",\"ServicerName\",],axis=1,inplace=True)"
   ]
  },
  {
   "cell_type": "code",
   "execution_count": 93,
   "metadata": {},
   "outputs": [
    {
     "name": "stdout",
     "output_type": "stream",
     "text": [
      "<class 'pandas.core.frame.DataFrame'>\n",
      "RangeIndex: 291451 entries, 0 to 291450\n",
      "Data columns (total 22 columns):\n",
      " #   Column              Non-Null Count   Dtype  \n",
      "---  ------              --------------   -----  \n",
      " 0   CreditScore         291451 non-null  int64  \n",
      " 1   FirstPaymentDate    291451 non-null  int64  \n",
      " 2   FirstTimeHomebuyer  291451 non-null  object \n",
      " 3   MaturityDate        291451 non-null  int64  \n",
      " 4   MSA                 291451 non-null  object \n",
      " 5   MIP                 291451 non-null  int64  \n",
      " 6   Units               291451 non-null  int64  \n",
      " 7   Occupancy           291451 non-null  object \n",
      " 8   OCLTV               291451 non-null  int64  \n",
      " 9   DTI                 291451 non-null  int64  \n",
      " 10  OrigUPB             291451 non-null  int64  \n",
      " 11  LTV                 291451 non-null  int64  \n",
      " 12  OrigInterestRate    291451 non-null  float64\n",
      " 13  PPM                 291451 non-null  object \n",
      " 14  PropertyType        291451 non-null  object \n",
      " 15  LoanSeqNum          291451 non-null  object \n",
      " 16  LoanPurpose         291451 non-null  object \n",
      " 17  OrigLoanTerm        291451 non-null  int64  \n",
      " 18  NumBorrowers        291451 non-null  object \n",
      " 19  EverDelinquent      291451 non-null  int64  \n",
      " 20  MonthsDelinquent    291451 non-null  int64  \n",
      " 21  MonthsInRepayment   291451 non-null  int64  \n",
      "dtypes: float64(1), int64(13), object(8)\n",
      "memory usage: 48.9+ MB\n"
     ]
    }
   ],
   "source": [
    "df.info()"
   ]
  },
  {
   "cell_type": "code",
   "execution_count": 94,
   "metadata": {},
   "outputs": [
    {
     "data": {
      "text/plain": [
       "CreditScore              370\n",
       "FirstPaymentDate          66\n",
       "FirstTimeHomebuyer         3\n",
       "MaturityDate              96\n",
       "MSA                      392\n",
       "MIP                       37\n",
       "Units                      5\n",
       "Occupancy                  3\n",
       "OCLTV                    102\n",
       "DTI                       66\n",
       "OrigUPB                  375\n",
       "LTV                       97\n",
       "OrigInterestRate         254\n",
       "PPM                        3\n",
       "PropertyType               7\n",
       "LoanSeqNum            291451\n",
       "LoanPurpose                3\n",
       "OrigLoanTerm              61\n",
       "NumBorrowers               3\n",
       "EverDelinquent             2\n",
       "MonthsDelinquent         174\n",
       "MonthsInRepayment        212\n",
       "dtype: int64"
      ]
     },
     "execution_count": 94,
     "metadata": {},
     "output_type": "execute_result"
    }
   ],
   "source": [
    "df.nunique()"
   ]
  },
  {
   "cell_type": "markdown",
   "metadata": {},
   "source": [
    "### Delete 'LoanSeqNum' because it has to many different values and its not neccasarry in that case."
   ]
  },
  {
   "cell_type": "code",
   "execution_count": 95,
   "metadata": {},
   "outputs": [],
   "source": [
    "df.drop([\"LoanSeqNum\"],axis=1,inplace=True)"
   ]
  },
  {
   "cell_type": "code",
   "execution_count": 96,
   "metadata": {},
   "outputs": [
    {
     "data": {
      "text/plain": [
       "CreditScore           370\n",
       "FirstPaymentDate       66\n",
       "FirstTimeHomebuyer      3\n",
       "MaturityDate           96\n",
       "MSA                   392\n",
       "MIP                    37\n",
       "Units                   5\n",
       "Occupancy               3\n",
       "OCLTV                 102\n",
       "DTI                    66\n",
       "OrigUPB               375\n",
       "LTV                    97\n",
       "OrigInterestRate      254\n",
       "PPM                     3\n",
       "PropertyType            7\n",
       "LoanPurpose             3\n",
       "OrigLoanTerm           61\n",
       "NumBorrowers            3\n",
       "EverDelinquent          2\n",
       "MonthsDelinquent      174\n",
       "MonthsInRepayment     212\n",
       "dtype: int64"
      ]
     },
     "execution_count": 96,
     "metadata": {},
     "output_type": "execute_result"
    }
   ],
   "source": [
    "df.nunique()"
   ]
  },
  {
   "cell_type": "markdown",
   "metadata": {},
   "source": [
    "#### Description of each column of our dataset:\n",
    "    \n",
    "0.CreditScore :- Credit score of the client\n",
    "\n",
    "1.FirstPaymentDate :-The month and year that the first scheduled payment on the loan is due\n",
    "\n",
    "2.FirstTimeHomebuyer :-The indicator denoting whether a borrower on the loan qualifies as a first-time homebuyer.\n",
    "“Not Available” will be indicated by 9. \n",
    "Y = Yes\n",
    "N = No\n",
    "x = Not Available\n",
    "\n",
    "3.MaturityDate :-The maturity date of the mortgage\n",
    "\n",
    "4.MSA :-For reperforming, modified fixed-rate and modified step-rate loans, the dollar amount of the loan in the security \n",
    "as stated on the note at the time the loans were originated or modified.\n",
    "\n",
    "5.MIP(Mortgage Insurance Percent MI %):-The percentage of mortgage insurance coverage obtained at origination in effect at the time the security was \n",
    "issued.000= No MI\n",
    "999= Not Available\n",
    "\n",
    "6.Units:-The number of dwelling units in the mortgaged property at the time the loan was originated. “Not Available” will \n",
    "be indicated by 99. \n",
    "\n",
    "7.Occupancy:-occupancy status at the time the loan was originated.\n",
    "P= Primary Residence\n",
    "S= Second Home\n",
    "I= Investment Property\n",
    "9= Not Available\n",
    "\n",
    "8.OCLTV(outstanding loans at origination by the value of the property. ):-For reperforming, modified fixed-rate and modified step-rate loans, the ratio, expressed as a percentage, \n",
    "obtained by dividing the amount of all known outstanding loans at origination by the value of the property.\n",
    "Property value reflects either the lesser of the sales price or the appraised property value for a purchase, or the \n",
    "appraised property value for a refinance.\n",
    "999 = Not Available\n",
    "\n",
    "9.DTI(Dept_to_income) :-The ratio obtained by dividing the total monthly debt expense by the total monthly income of the borrower at the time the loan was originated or modified.This number is one way lenders measure your ability to manage the monthly payments to repay the money you plan to borrow.\n",
    "\n",
    "10.OrigUPB(unpaid principal balance):- For reperforming, modified fixed-rate and modified step-rate loans, the current non-interest bearing unpaid principal balance.\n",
    "\n",
    "11.LTV (Loan_to_value):- The ratio, expressed as a percentage, obtained by dividing the amount of the loan at origination by the value of  the property(Percentages less than 1% or greater than 998% will be disclosed as “Not Available,” indicated by 999. \n",
    "999 = Not Available).The higher your down payment, the lower your LTV ratio. Mortgage lenders may use the LTV in deciding whether to lend to you and to determine if they will require private mortgage insurance\n",
    "\n",
    "12.OrigInterestRate:- For reperforming, modified fixed-rate and modified step-rate loans, the interest rate of the loan as stated on the \n",
    "note at the time the loan was originated.\n",
    "If value <0 or >25, then the rate is considered not available (securities issued on or after 9/1/2017)\n",
    "\n",
    "13.PPM :-The indicator denoting whether the borrower is subject to a penalty for early payment of principal.\n",
    "Y = Yes\n",
    "N = No\n",
    "\n",
    "14.PropertyType :;The classification describing the type of property that secures the loan. “Not Available” will be indicated by 99. \n",
    "CP = Cooperative\n",
    "CO = Condominium\n",
    "PU = Planned Unit Development\n",
    "SF = Single-Family\n",
    "MH = Manufactured Housing\n",
    "99 = Not Available\n",
    "\n",
    "15.LoanPurpose:-The classification describing the purpose of the loan.\n",
    "C = Refinance - Cash Out\n",
    "N = Refinance - No Cash Out\n",
    "R = Refinance - Not Specified\n",
    "P = Purchase\n",
    "9 = Not Available\n",
    "    \n",
    "16.OrigLoanTerm :-For reperforming, modified fixed-rate and modified step-rate loans, the number of months in which regularly \n",
    "scheduled borrower payments are due as stated on the note at the time the loan was originated.\n",
    "\n",
    "17.NumBorrowers:-The number of borrowers who, at the time the loan was originated, are obligated to repay the loan\n",
    "\n",
    "18.EverDelinquent:-Identify Delinquent .A mortgage becomes delinquent when the borrower has missed or been late with one or more payments\n",
    "    0 = Current\n",
    "    1 = 30-59\n",
    "    2 = 60-89\n",
    "    3 = 90-119\n",
    "    4 = 120+                \n",
    "\n",
    "19.MonthsDelinquent ( month science last Delinquent ):-For reperforming, modified and modified step-rate loans, the number of months for which a mortgage loan has been reported delinquent.\n",
    "\n",
    "20.MonthsInRepayment:-Repayment is the act of paying back money previously borrowed from a lende.                                     "
   ]
  },
  {
   "cell_type": "markdown",
   "metadata": {},
   "source": [
    "### Check Values"
   ]
  },
  {
   "cell_type": "markdown",
   "metadata": {},
   "source": [
    "We need to check if there are some Values in the df which are set instead of nAn."
   ]
  },
  {
   "cell_type": "code",
   "execution_count": 97,
   "metadata": {},
   "outputs": [
    {
     "name": "stdout",
     "output_type": "stream",
     "text": [
      "CreditScore\n",
      "748    2567\n",
      "734    2537\n",
      "747    2456\n",
      "753    2427\n",
      "764    2419\n",
      "       ... \n",
      "391       1\n",
      "396       1\n",
      "445       1\n",
      "462       1\n",
      "849       1\n",
      "Name: count, Length: 370, dtype: int64\n",
      "#######################################\n",
      "FirstPaymentDate\n",
      "199905    104071\n",
      "199904     91152\n",
      "199903     89401\n",
      "199902      2300\n",
      "199906      2083\n",
      "           ...  \n",
      "201111         1\n",
      "201303         1\n",
      "200311         1\n",
      "200403         1\n",
      "200404         1\n",
      "Name: count, Length: 66, dtype: int64\n",
      "#######################################\n",
      "FirstTimeHomebuyer\n",
      "N    184154\n",
      "X     78015\n",
      "Y     29282\n",
      "Name: count, dtype: int64\n",
      "#######################################\n",
      "MaturityDate\n",
      "202904    104210\n",
      "202903     91059\n",
      "202902     89304\n",
      "202901      2282\n",
      "202905      2067\n",
      "           ...  \n",
      "202403         1\n",
      "203304         1\n",
      "203308         1\n",
      "203210         1\n",
      "203202         1\n",
      "Name: count, Length: 96, dtype: int64\n",
      "#######################################\n",
      "MSA\n",
      "X        39100\n",
      "31084     9338\n",
      "16974     8771\n",
      "12060     6985\n",
      "47644     6673\n",
      "         ...  \n",
      "21940        3\n",
      "49500        2\n",
      "25020        1\n",
      "10380        1\n",
      "32420        1\n",
      "Name: count, Length: 392, dtype: int64\n",
      "#######################################\n",
      "MIP\n",
      "0     184511\n",
      "25     42441\n",
      "30     41869\n",
      "12     13294\n",
      "18      3005\n",
      "17      2739\n",
      "35      1290\n",
      "36       748\n",
      "29       640\n",
      "20       497\n",
      "14       166\n",
      "27        66\n",
      "22        45\n",
      "6         32\n",
      "33        24\n",
      "32         9\n",
      "28         9\n",
      "15         7\n",
      "50         7\n",
      "47         7\n",
      "26         7\n",
      "24         6\n",
      "16         5\n",
      "1          5\n",
      "13         4\n",
      "52         3\n",
      "10         3\n",
      "37         3\n",
      "55         1\n",
      "21         1\n",
      "23         1\n",
      "19         1\n",
      "45         1\n",
      "7          1\n",
      "9          1\n",
      "11         1\n",
      "4          1\n",
      "Name: count, dtype: int64\n",
      "#######################################\n",
      "Units\n",
      "1    285598\n",
      "2      4690\n",
      "3       587\n",
      "4       574\n",
      "0         2\n",
      "Name: count, dtype: int64\n",
      "#######################################\n",
      "Occupancy\n",
      "O    276131\n",
      "I      8734\n",
      "S      6586\n",
      "Name: count, dtype: int64\n",
      "#######################################\n",
      "OCLTV\n",
      "80     54126\n",
      "95     37243\n",
      "90     29646\n",
      "75     17907\n",
      "79      7317\n",
      "       ...  \n",
      "98         8\n",
      "101        5\n",
      "0          5\n",
      "104        4\n",
      "110        3\n",
      "Name: count, Length: 102, dtype: int64\n",
      "#######################################\n",
      "DTI\n",
      "0     17796\n",
      "28    12818\n",
      "36     9493\n",
      "33     9378\n",
      "35     9297\n",
      "      ...  \n",
      "63      272\n",
      "65      207\n",
      "3       180\n",
      "2       109\n",
      "1        64\n",
      "Name: count, Length: 66, dtype: int64\n",
      "#######################################\n",
      "OrigUPB\n",
      "240000    7035\n",
      "100000    5474\n",
      "80000     3707\n",
      "90000     3555\n",
      "120000    3549\n",
      "          ... \n",
      "9000         1\n",
      "353000       1\n",
      "497000       1\n",
      "442000       1\n",
      "420000       1\n",
      "Name: count, Length: 375, dtype: int64\n",
      "#######################################\n",
      "LTV\n",
      "80     54503\n",
      "95     37209\n",
      "90     29343\n",
      "75     17918\n",
      "79      7329\n",
      "       ...  \n",
      "6          9\n",
      "98         6\n",
      "0          5\n",
      "103        1\n",
      "99         1\n",
      "Name: count, Length: 97, dtype: int64\n",
      "#######################################\n",
      "OrigInterestRate\n",
      "6.875     69884\n",
      "6.750     46762\n",
      "7.000     44927\n",
      "7.125     23664\n",
      "6.625     23568\n",
      "          ...  \n",
      "6.883         1\n",
      "6.100         1\n",
      "8.070         1\n",
      "11.125        1\n",
      "5.800         1\n",
      "Name: count, Length: 254, dtype: int64\n",
      "#######################################\n",
      "PPM\n",
      "N    282125\n",
      "X      5405\n",
      "Y      3921\n",
      "Name: count, dtype: int64\n",
      "#######################################\n",
      "PropertyType\n",
      "SF    244923\n",
      "PU     27506\n",
      "CO     18100\n",
      "MH       723\n",
      "LH       105\n",
      "CP        72\n",
      "X         22\n",
      "Name: count, dtype: int64\n",
      "#######################################\n",
      "LoanPurpose\n",
      "P    123404\n",
      "N    110036\n",
      "C     58011\n",
      "Name: count, dtype: int64\n",
      "#######################################\n",
      "OrigLoanTerm\n",
      "360    289073\n",
      "354       434\n",
      "336       205\n",
      "359       103\n",
      "348        94\n",
      "        ...  \n",
      "301         6\n",
      "302         5\n",
      "304         4\n",
      "303         4\n",
      "361         2\n",
      "Name: count, Length: 61, dtype: int64\n",
      "#######################################\n",
      "NumBorrowers\n",
      "2     187335\n",
      "1     103777\n",
      "X        339\n",
      "Name: count, dtype: int64\n",
      "#######################################\n",
      "EverDelinquent\n",
      "0    233788\n",
      "1     57663\n",
      "Name: count, dtype: int64\n",
      "#######################################\n",
      "MonthsDelinquent\n",
      "0      233788\n",
      "1       23161\n",
      "2        7572\n",
      "3        3823\n",
      "4        2459\n",
      "        ...  \n",
      "153         1\n",
      "178         1\n",
      "159         1\n",
      "163         1\n",
      "171         1\n",
      "Name: count, Length: 174, dtype: int64\n",
      "#######################################\n",
      "MonthsInRepayment\n",
      "50     8002\n",
      "49     7976\n",
      "52     7947\n",
      "51     7753\n",
      "53     7603\n",
      "       ... \n",
      "207     112\n",
      "200     111\n",
      "205     107\n",
      "203     100\n",
      "204      99\n",
      "Name: count, Length: 212, dtype: int64\n",
      "#######################################\n"
     ]
    }
   ],
   "source": [
    "for i in df:\n",
    "        print(df[i].value_counts())\n",
    "        print('#######################################')"
   ]
  },
  {
   "cell_type": "markdown",
   "metadata": {},
   "source": [
    "Analyse showed, that there is an 'X' which marks the spot as nAn."
   ]
  },
  {
   "cell_type": "markdown",
   "metadata": {},
   "source": [
    "### FirstTimeHomebuyer, MSA, PPM, PropertyType, NumBorrower have 'X' Values, which stands for NaN in this DataSet."
   ]
  },
  {
   "cell_type": "markdown",
   "metadata": {},
   "source": [
    "Analysing how many X´s there are."
   ]
  },
  {
   "cell_type": "code",
   "execution_count": 98,
   "metadata": {},
   "outputs": [
    {
     "name": "stdout",
     "output_type": "stream",
     "text": [
      "                        0\n",
      "FirstTimeHomebuyer  78015\n",
      "MSA                     0\n",
      "PPM                  5405\n",
      "PropertyType            0\n",
      "NumBorrowers            0\n"
     ]
    }
   ],
   "source": [
    "NaN= {}\n",
    "\n",
    "for i in list(df.columns):\n",
    "    if i in ['FirstTimeHomebuyer', 'MSA', 'PPM', 'PropertyType', 'NumBorrowers']:\n",
    "        X = np.sum(df[i] == \"X\")\n",
    "        NaN[i] = X\n",
    "\n",
    "X = pd.DataFrame.from_dict(NaN, orient = 'index')\n",
    "print(X)"
   ]
  },
  {
   "cell_type": "markdown",
   "metadata": {},
   "source": [
    "As manually seen ther should be Xses for all of these columns but the code doesnt show it. Das kann daran liegen das die Zeilen nicht gestript werden, also das es vor dem X oder danach leerzeichen gibt die diese unerkannt bleiben lassen."
   ]
  },
  {
   "cell_type": "code",
   "execution_count": 99,
   "metadata": {},
   "outputs": [
    {
     "name": "stdout",
     "output_type": "stream",
     "text": [
      "                        0\n",
      "FirstTimeHomebuyer  78015\n",
      "MSA                 39100\n",
      "PPM                  5405\n",
      "PropertyType           22\n",
      "NumBorrowers          339\n"
     ]
    }
   ],
   "source": [
    "NaN = {}\n",
    "\n",
    "for i in list(df.columns):\n",
    "    if i in ['FirstTimeHomebuyer', 'MSA', 'PPM', 'PropertyType', 'NumBorrowers']:\n",
    "        X = np.sum(df[i].str.strip() == \"X\")\n",
    "        NaN[i] = X\n",
    "\n",
    "X = pd.DataFrame.from_dict(NaN, orient='index')\n",
    "print(X)"
   ]
  },
  {
   "cell_type": "markdown",
   "metadata": {},
   "source": [
    "Hier sind jetzt alle X´e zu sehen."
   ]
  },
  {
   "cell_type": "markdown",
   "metadata": {},
   "source": [
    "### Replacing the 'X' Values with the mode of the colums."
   ]
  },
  {
   "cell_type": "markdown",
   "metadata": {},
   "source": [
    "#### FirstTimeHomebuyer"
   ]
  },
  {
   "cell_type": "code",
   "execution_count": 100,
   "metadata": {},
   "outputs": [
    {
     "data": {
      "text/plain": [
       "0    N\n",
       "Name: FirstTimeHomebuyer, dtype: object"
      ]
     },
     "execution_count": 100,
     "metadata": {},
     "output_type": "execute_result"
    }
   ],
   "source": [
    "df[\"FirstTimeHomebuyer\"].mode()"
   ]
  },
  {
   "cell_type": "code",
   "execution_count": 101,
   "metadata": {},
   "outputs": [],
   "source": [
    "df[\"FirstTimeHomebuyer\"]=df[\"FirstTimeHomebuyer\"].replace(['X'],['N'])"
   ]
  },
  {
   "cell_type": "code",
   "execution_count": 102,
   "metadata": {},
   "outputs": [
    {
     "data": {
      "text/plain": [
       "array(['N', 'Y'], dtype=object)"
      ]
     },
     "execution_count": 102,
     "metadata": {},
     "output_type": "execute_result"
    }
   ],
   "source": [
    "df[\"FirstTimeHomebuyer\"].unique()"
   ]
  },
  {
   "cell_type": "markdown",
   "metadata": {},
   "source": [
    "#### MSA"
   ]
  },
  {
   "cell_type": "code",
   "execution_count": 103,
   "metadata": {},
   "outputs": [
    {
     "data": {
      "text/plain": [
       "0    X    \n",
       "Name: MSA, dtype: object"
      ]
     },
     "execution_count": 103,
     "metadata": {},
     "output_type": "execute_result"
    }
   ],
   "source": [
    "df[\"MSA\"].mode()"
   ]
  },
  {
   "cell_type": "code",
   "execution_count": 104,
   "metadata": {},
   "outputs": [
    {
     "data": {
      "text/plain": [
       "dtype('O')"
      ]
     },
     "execution_count": 104,
     "metadata": {},
     "output_type": "execute_result"
    }
   ],
   "source": [
    "df[\"MSA\"].dtype"
   ]
  },
  {
   "cell_type": "code",
   "execution_count": 105,
   "metadata": {},
   "outputs": [],
   "source": [
    "df[\"MSA\"]=df[\"MSA\"].str.strip().replace(['X'],['0'])"
   ]
  },
  {
   "cell_type": "code",
   "execution_count": 106,
   "metadata": {},
   "outputs": [],
   "source": [
    "df['MSA']=df['MSA'].astype('int')"
   ]
  },
  {
   "cell_type": "code",
   "execution_count": 107,
   "metadata": {},
   "outputs": [
    {
     "data": {
      "text/plain": [
       "29820"
      ]
     },
     "execution_count": 107,
     "metadata": {},
     "output_type": "execute_result"
    }
   ],
   "source": [
    "round(df[\"MSA\"].median())"
   ]
  },
  {
   "cell_type": "code",
   "execution_count": 108,
   "metadata": {},
   "outputs": [],
   "source": [
    "df[\"MSA\"]=df[\"MSA\"].replace(0,29820)"
   ]
  },
  {
   "cell_type": "code",
   "execution_count": 109,
   "metadata": {},
   "outputs": [
    {
     "data": {
      "text/plain": [
       "array([16974, 19740, 29940, 31084, 35644, 29820, 36740, 25540, 48620,\n",
       "       12060, 12420, 13140, 13644, 15764, 16700, 16940, 17900, 19124,\n",
       "       20500, 20764, 21340, 22380, 22744, 23060, 23104, 24660, 24860,\n",
       "       25060, 26900, 27060, 27140, 27260, 28420, 29404, 30780, 31340,\n",
       "       33124, 33340, 33460, 34820, 35004, 35084, 35380, 37100, 38060,\n",
       "       38300, 38900, 39300, 39340, 39820, 40060, 40140, 40900, 41180,\n",
       "       41620, 41700, 41740, 41884, 42044, 42220, 42644, 43900, 46060,\n",
       "       46700, 47644, 47894, 49180, 49420, 11340, 12100, 14500, 17820,\n",
       "       17860, 19340, 19804, 28140, 29740, 36084, 36500, 37460, 42060,\n",
       "       47260, 48424, 12580, 14484, 14860, 19380, 26420, 29420, 29620,\n",
       "       36540, 37764, 37860, 37964, 38940, 40380, 45300, 19660, 11300,\n",
       "       11460, 12220, 12940, 13820, 13980, 14740, 15540, 16740, 17140,\n",
       "       17460, 17780, 22220, 23420, 23844, 24340, 24780, 26180, 27620,\n",
       "       31420, 31540, 34980, 35300, 39100, 39580, 39900, 40420, 41940,\n",
       "       41980, 42020, 45940, 47300, 48300, 49340, 34100, 35840, 36980,\n",
       "       39140, 43620, 15804, 15940, 32820, 38860, 40484, 41060, 44140,\n",
       "       45500, 12540, 10740, 10900, 11540, 12260, 12980, 14260, 16180,\n",
       "       16300, 18140, 21140, 22500, 23580, 25260, 26300, 29460, 31140,\n",
       "       31900, 32780, 32900, 33260, 33540, 33700, 34940, 36420, 37340,\n",
       "       37900, 39740, 41500, 42100, 43340, 44700, 45104, 49020, 10420,\n",
       "       10580, 16860, 17980, 22660, 28020, 31020, 35980, 11700, 17660,\n",
       "       19500, 20020, 36780, 36100, 42680, 45220, 48900, 22420, 33860,\n",
       "       28100, 40660, 26820, 49660, 40580, 14060, 24300, 44600, 15980,\n",
       "       23540, 12700, 36260, 30460, 38540, 26620, 45780, 47380, 24580,\n",
       "       18880, 15500, 25420, 41420, 44060, 19140, 39540, 19780, 40340,\n",
       "       34900, 48864, 15380, 20260, 25860, 29140, 42340, 21780, 34740,\n",
       "       33780, 35660, 26580, 24540, 41100, 29540, 21660, 27500, 43780,\n",
       "       30860, 28940, 46140, 44100, 22180, 45460, 42540, 33660, 49740,\n",
       "       15260, 45060, 13900, 43300, 24140, 31700, 19260, 31180, 32580,\n",
       "       18020, 18700, 12020, 27900, 19460, 47220, 27340, 37380, 11180,\n",
       "       44180, 39460, 26100, 29020, 40980, 47580, 27180, 15180, 20740,\n",
       "       46660, 13740, 13460, 20940, 21300, 43580, 49620, 19180, 27740,\n",
       "       30340, 39380, 48140, 49700, 47940, 43100, 27100, 16620, 27860,\n",
       "       30620, 20100, 41780, 31860, 17020, 34580, 10500, 18580, 34620,\n",
       "       17300, 47020, 44940, 30980, 25180, 38220, 13380, 22540, 38340,\n",
       "       22900, 44220, 42140, 22140, 22020, 13020, 30700, 25500, 14540,\n",
       "       22520, 10180, 40220, 46340, 14020, 45820, 16580, 11260, 28700,\n",
       "       21060, 46220, 20220, 29180, 34060, 39660, 11100, 36140, 29100,\n",
       "       16820, 10780, 30140, 26380, 30300, 21820, 28740, 16020, 48660,\n",
       "       12620, 27780, 46540, 25620, 33740, 11020, 24500, 48540, 29700,\n",
       "       21500, 25020, 24220, 31460, 23460, 37700, 41540, 33140, 41660,\n",
       "       30020, 13780, 28660, 16220, 41900, 41140, 37620, 48700, 44300,\n",
       "       24020, 17420, 31740, 29340, 19060, 11500, 26980, 25980, 36220,\n",
       "       10380, 49500, 21940, 32420])"
      ]
     },
     "execution_count": 109,
     "metadata": {},
     "output_type": "execute_result"
    }
   ],
   "source": [
    "df[\"MSA\"].unique()"
   ]
  },
  {
   "cell_type": "markdown",
   "metadata": {},
   "source": [
    "#### PPM"
   ]
  },
  {
   "cell_type": "code",
   "execution_count": 110,
   "metadata": {},
   "outputs": [
    {
     "data": {
      "text/plain": [
       "0    N\n",
       "Name: PPM, dtype: object"
      ]
     },
     "execution_count": 110,
     "metadata": {},
     "output_type": "execute_result"
    }
   ],
   "source": [
    "df[\"PPM\"].mode()"
   ]
  },
  {
   "cell_type": "code",
   "execution_count": 111,
   "metadata": {},
   "outputs": [],
   "source": [
    "df[\"PPM\"]=df[\"PPM\"].replace(['X'],['N'])"
   ]
  },
  {
   "cell_type": "code",
   "execution_count": 112,
   "metadata": {},
   "outputs": [
    {
     "data": {
      "text/plain": [
       "array(['N', 'Y'], dtype=object)"
      ]
     },
     "execution_count": 112,
     "metadata": {},
     "output_type": "execute_result"
    }
   ],
   "source": [
    "df[\"PPM\"].unique()"
   ]
  },
  {
   "cell_type": "markdown",
   "metadata": {},
   "source": [
    "#### PropertyType"
   ]
  },
  {
   "cell_type": "code",
   "execution_count": 113,
   "metadata": {},
   "outputs": [
    {
     "data": {
      "text/plain": [
       "0    SF\n",
       "Name: PropertyType, dtype: object"
      ]
     },
     "execution_count": 113,
     "metadata": {},
     "output_type": "execute_result"
    }
   ],
   "source": [
    "df[\"PropertyType\"].mode()"
   ]
  },
  {
   "cell_type": "code",
   "execution_count": 114,
   "metadata": {},
   "outputs": [],
   "source": [
    "df[\"PropertyType\"]=df[\"PropertyType\"].str.strip().replace(['X'],['SF'])"
   ]
  },
  {
   "cell_type": "code",
   "execution_count": 115,
   "metadata": {},
   "outputs": [
    {
     "data": {
      "text/plain": [
       "array(['SF', 'PU', 'CO', 'MH', 'CP', 'LH'], dtype=object)"
      ]
     },
     "execution_count": 115,
     "metadata": {},
     "output_type": "execute_result"
    }
   ],
   "source": [
    "df[\"PropertyType\"].unique()"
   ]
  },
  {
   "cell_type": "markdown",
   "metadata": {},
   "source": [
    "#### NumBorrowers"
   ]
  },
  {
   "cell_type": "code",
   "execution_count": 116,
   "metadata": {},
   "outputs": [
    {
     "data": {
      "text/plain": [
       "0    2\n",
       "Name: NumBorrowers, dtype: object"
      ]
     },
     "execution_count": 116,
     "metadata": {},
     "output_type": "execute_result"
    }
   ],
   "source": [
    "df[\"NumBorrowers\"].mode()"
   ]
  },
  {
   "cell_type": "code",
   "execution_count": 117,
   "metadata": {},
   "outputs": [],
   "source": [
    "df[\"NumBorrowers\"]=df[\"NumBorrowers\"].str.strip().replace(['X'],[2])"
   ]
  },
  {
   "cell_type": "code",
   "execution_count": 118,
   "metadata": {},
   "outputs": [],
   "source": [
    "df['NumBorrowers']=df['NumBorrowers'].astype('int')"
   ]
  },
  {
   "cell_type": "code",
   "execution_count": 119,
   "metadata": {},
   "outputs": [
    {
     "data": {
      "text/plain": [
       "array([2, 1])"
      ]
     },
     "execution_count": 119,
     "metadata": {},
     "output_type": "execute_result"
    }
   ],
   "source": [
    "df[\"NumBorrowers\"].unique()"
   ]
  },
  {
   "cell_type": "markdown",
   "metadata": {},
   "source": [
    "### Checking for 0 values in colums"
   ]
  },
  {
   "cell_type": "code",
   "execution_count": 120,
   "metadata": {},
   "outputs": [
    {
     "data": {
      "text/plain": [
       "Index(['CreditScore', 'FirstPaymentDate', 'FirstTimeHomebuyer', 'MaturityDate',\n",
       "       'MSA', 'MIP', 'Units', 'Occupancy', 'OCLTV', 'DTI', 'OrigUPB', 'LTV',\n",
       "       'OrigInterestRate', 'PPM', 'PropertyType', 'LoanPurpose',\n",
       "       'OrigLoanTerm', 'NumBorrowers', 'EverDelinquent', 'MonthsDelinquent',\n",
       "       'MonthsInRepayment'],\n",
       "      dtype='object')"
      ]
     },
     "execution_count": 120,
     "metadata": {},
     "output_type": "execute_result"
    }
   ],
   "source": [
    "df.columns"
   ]
  },
  {
   "cell_type": "code",
   "execution_count": 121,
   "metadata": {},
   "outputs": [
    {
     "name": "stdout",
     "output_type": "stream",
     "text": [
      "<class 'pandas.core.frame.DataFrame'>\n",
      "RangeIndex: 291451 entries, 0 to 291450\n",
      "Data columns (total 21 columns):\n",
      " #   Column              Non-Null Count   Dtype  \n",
      "---  ------              --------------   -----  \n",
      " 0   CreditScore         291451 non-null  int64  \n",
      " 1   FirstPaymentDate    291451 non-null  int64  \n",
      " 2   FirstTimeHomebuyer  291451 non-null  object \n",
      " 3   MaturityDate        291451 non-null  int64  \n",
      " 4   MSA                 291451 non-null  int64  \n",
      " 5   MIP                 291451 non-null  int64  \n",
      " 6   Units               291451 non-null  int64  \n",
      " 7   Occupancy           291451 non-null  object \n",
      " 8   OCLTV               291451 non-null  int64  \n",
      " 9   DTI                 291451 non-null  int64  \n",
      " 10  OrigUPB             291451 non-null  int64  \n",
      " 11  LTV                 291451 non-null  int64  \n",
      " 12  OrigInterestRate    291451 non-null  float64\n",
      " 13  PPM                 291451 non-null  object \n",
      " 14  PropertyType        291451 non-null  object \n",
      " 15  LoanPurpose         291451 non-null  object \n",
      " 16  OrigLoanTerm        291451 non-null  int64  \n",
      " 17  NumBorrowers        291451 non-null  int64  \n",
      " 18  EverDelinquent      291451 non-null  int64  \n",
      " 19  MonthsDelinquent    291451 non-null  int64  \n",
      " 20  MonthsInRepayment   291451 non-null  int64  \n",
      "dtypes: float64(1), int64(15), object(5)\n",
      "memory usage: 46.7+ MB\n"
     ]
    }
   ],
   "source": [
    "df.info()"
   ]
  },
  {
   "cell_type": "code",
   "execution_count": 122,
   "metadata": {},
   "outputs": [
    {
     "name": "stdout",
     "output_type": "stream",
     "text": [
      "                         0\n",
      "CreditScore           1189\n",
      "FirstPaymentDate         0\n",
      "FirstTimeHomebuyer       0\n",
      "MaturityDate             0\n",
      "MSA                      0\n",
      "MIP                 184511\n",
      "Units                    2\n",
      "Occupancy                0\n",
      "OCLTV                    5\n",
      "DTI                  17796\n",
      "OrigUPB                  0\n",
      "LTV                      5\n",
      "OrigInterestRate         0\n",
      "PPM                      0\n",
      "PropertyType             0\n",
      "LoanPurpose              0\n",
      "OrigLoanTerm             0\n",
      "NumBorrowers             0\n",
      "EverDelinquent      233788\n",
      "MonthsDelinquent    233788\n",
      "MonthsInRepayment        0\n"
     ]
    }
   ],
   "source": [
    "NaN = {}\n",
    "\n",
    "for i in list(df.columns):\n",
    "    if i in ['CreditScore', 'FirstPaymentDate', 'FirstTimeHomebuyer', 'MaturityDate',\n",
    "       'MSA', 'MIP', 'Units', 'Occupancy', 'OCLTV', 'DTI', 'OrigUPB', 'LTV',\n",
    "       'OrigInterestRate', 'PPM', 'PropertyType', 'LoanPurpose',\n",
    "       'OrigLoanTerm', 'NumBorrowers', 'EverDelinquent', 'MonthsDelinquent',\n",
    "       'MonthsInRepayment']:\n",
    "        Y = np.sum(df[i] == 0)\n",
    "        NaN[i] = Y\n",
    "\n",
    "Y = pd.DataFrame.from_dict(NaN, orient='index')\n",
    "print(Y)"
   ]
  },
  {
   "cell_type": "markdown",
   "metadata": {},
   "source": [
    "#### Dopping the entrys which have 0 as value for 'CreditScore'."
   ]
  },
  {
   "cell_type": "code",
   "execution_count": 123,
   "metadata": {},
   "outputs": [],
   "source": [
    "df = df[df['CreditScore'] != 0]"
   ]
  },
  {
   "cell_type": "code",
   "execution_count": 124,
   "metadata": {},
   "outputs": [
    {
     "name": "stdout",
     "output_type": "stream",
     "text": [
      "                         0\n",
      "CreditScore              0\n",
      "FirstPaymentDate         0\n",
      "FirstTimeHomebuyer       0\n",
      "MaturityDate             0\n",
      "MSA                      0\n",
      "MIP                 183881\n",
      "Units                    2\n",
      "Occupancy                0\n",
      "OCLTV                    5\n",
      "DTI                  17761\n",
      "OrigUPB                  0\n",
      "LTV                      5\n",
      "OrigInterestRate         0\n",
      "PPM                      0\n",
      "PropertyType             0\n",
      "LoanPurpose              0\n",
      "OrigLoanTerm             0\n",
      "NumBorrowers             0\n",
      "EverDelinquent      232924\n",
      "MonthsDelinquent    232924\n",
      "MonthsInRepayment        0\n"
     ]
    }
   ],
   "source": [
    "NaN = {}\n",
    "\n",
    "for i in list(df.columns):\n",
    "    if i in ['CreditScore', 'FirstPaymentDate', 'FirstTimeHomebuyer', 'MaturityDate',\n",
    "       'MSA', 'MIP', 'Units', 'Occupancy', 'OCLTV', 'DTI', 'OrigUPB', 'LTV',\n",
    "       'OrigInterestRate', 'PPM', 'PropertyType', 'LoanPurpose',\n",
    "       'OrigLoanTerm', 'NumBorrowers', 'EverDelinquent', 'MonthsDelinquent',\n",
    "       'MonthsInRepayment']:\n",
    "        Y = np.sum(df[i] == 0)\n",
    "        NaN[i] = Y\n",
    "\n",
    "Y = pd.DataFrame.from_dict(NaN, orient='index')\n",
    "print(Y)"
   ]
  },
  {
   "cell_type": "markdown",
   "metadata": {},
   "source": [
    "#### Replacing the entrys which have 0 as value for 'DTI'."
   ]
  },
  {
   "cell_type": "code",
   "execution_count": 125,
   "metadata": {},
   "outputs": [
    {
     "data": {
      "text/plain": [
       "30"
      ]
     },
     "execution_count": 125,
     "metadata": {},
     "output_type": "execute_result"
    }
   ],
   "source": [
    "round(df['DTI'].mean())"
   ]
  },
  {
   "cell_type": "code",
   "execution_count": 126,
   "metadata": {},
   "outputs": [],
   "source": [
    "df[\"DTI\"]=df[\"DTI\"].replace(0,30)"
   ]
  },
  {
   "cell_type": "code",
   "execution_count": 127,
   "metadata": {},
   "outputs": [
    {
     "data": {
      "text/plain": [
       "array([21, 28, 18, 25, 38, 22, 16, 37, 43, 30, 45, 40, 41, 34, 20, 32, 23,\n",
       "       19, 49, 27, 24, 29, 33, 50, 35, 56, 31, 14, 64, 39, 42, 17, 13, 15,\n",
       "       26, 36, 44,  8, 46,  6, 11, 57,  9, 48,  7, 10, 54, 51, 59, 53, 52,\n",
       "       55, 12,  5,  4, 47, 65, 60, 58,  2,  3, 62,  1, 61, 63])"
      ]
     },
     "execution_count": 127,
     "metadata": {},
     "output_type": "execute_result"
    }
   ],
   "source": [
    "df['DTI'].unique()"
   ]
  },
  {
   "cell_type": "code",
   "execution_count": 128,
   "metadata": {},
   "outputs": [
    {
     "name": "stdout",
     "output_type": "stream",
     "text": [
      "                         0\n",
      "CreditScore              0\n",
      "FirstPaymentDate         0\n",
      "FirstTimeHomebuyer       0\n",
      "MaturityDate             0\n",
      "MSA                      0\n",
      "MIP                 183881\n",
      "Units                    2\n",
      "Occupancy                0\n",
      "OCLTV                    5\n",
      "DTI                      0\n",
      "OrigUPB                  0\n",
      "LTV                      5\n",
      "OrigInterestRate         0\n",
      "PPM                      0\n",
      "PropertyType             0\n",
      "LoanPurpose              0\n",
      "OrigLoanTerm             0\n",
      "NumBorrowers             0\n",
      "EverDelinquent      232924\n",
      "MonthsDelinquent    232924\n",
      "MonthsInRepayment        0\n"
     ]
    }
   ],
   "source": [
    "NaN = {}\n",
    "\n",
    "for i in list(df.columns):\n",
    "    if i in ['CreditScore', 'FirstPaymentDate', 'FirstTimeHomebuyer', 'MaturityDate',\n",
    "       'MSA', 'MIP', 'Units', 'Occupancy', 'OCLTV', 'DTI', 'OrigUPB', 'LTV',\n",
    "       'OrigInterestRate', 'PPM', 'PropertyType', 'LoanPurpose',\n",
    "       'OrigLoanTerm', 'NumBorrowers', 'EverDelinquent', 'MonthsDelinquent',\n",
    "       'MonthsInRepayment']:\n",
    "        Y = np.sum(df[i] == 0)\n",
    "        NaN[i] = Y\n",
    "\n",
    "Y = pd.DataFrame.from_dict(NaN, orient='index')\n",
    "print(Y)"
   ]
  },
  {
   "cell_type": "markdown",
   "metadata": {},
   "source": [
    "#### Replacing the entrys which have 0 as value for 'LTV'."
   ]
  },
  {
   "cell_type": "code",
   "execution_count": 129,
   "metadata": {},
   "outputs": [
    {
     "data": {
      "text/plain": [
       "80.0"
      ]
     },
     "execution_count": 129,
     "metadata": {},
     "output_type": "execute_result"
    }
   ],
   "source": [
    "df['LTV'].median()"
   ]
  },
  {
   "cell_type": "code",
   "execution_count": 130,
   "metadata": {},
   "outputs": [],
   "source": [
    "df[\"LTV\"]=df[\"LTV\"].replace(0,80)"
   ]
  },
  {
   "cell_type": "code",
   "execution_count": 131,
   "metadata": {},
   "outputs": [
    {
     "data": {
      "text/plain": [
       "array([ 71,  79,  66,  65,  80,  64,  87,  95,  90,  89,  67,  72,  68,\n",
       "        92,  78,  74,  50,  91,  55,  76,  73,  48,  84,  70,  40,  83,\n",
       "        85,  57,  97,  93,  28,  56,  82,  75,  69,  94,  45,  52,  30,\n",
       "        62,  54,  88,  61,  63,  58,  43,  86,  37,  46,  77,  60,  53,\n",
       "        81,  34,  33,  51,  47, 100,  96,  49,  59,  41,  42,  38,  44,\n",
       "        25,  36,  98,  31,  32,  29,  35,  27,  26,  24,  39,  13,  10,\n",
       "        18,  22,  23,  20,  15,  21, 103,  14,  16,  17,  19,   8,  99,\n",
       "         7,  12,   6,  11,   9])"
      ]
     },
     "execution_count": 131,
     "metadata": {},
     "output_type": "execute_result"
    }
   ],
   "source": [
    "df['LTV'].unique()"
   ]
  },
  {
   "cell_type": "markdown",
   "metadata": {},
   "source": [
    "#### Replacing the entrys which have 0 as value for 'OCLTV'."
   ]
  },
  {
   "cell_type": "code",
   "execution_count": 132,
   "metadata": {},
   "outputs": [
    {
     "data": {
      "text/plain": [
       "80.0"
      ]
     },
     "execution_count": 132,
     "metadata": {},
     "output_type": "execute_result"
    }
   ],
   "source": [
    "df['OCLTV'].median()"
   ]
  },
  {
   "cell_type": "code",
   "execution_count": 133,
   "metadata": {},
   "outputs": [],
   "source": [
    "df[\"OCLTV\"]=df[\"OCLTV\"].replace(0,80)"
   ]
  },
  {
   "cell_type": "code",
   "execution_count": 134,
   "metadata": {},
   "outputs": [
    {
     "data": {
      "text/plain": [
       "array([ 71,  79,  66,  65,  80,  64,  87,  95,  90,  89,  67,  72,  68,\n",
       "        92,  78,  74,  50,  91,  55,  76,  73,  48,  84,  70,  40,  83,\n",
       "        85,  57,  97,  93,  28,  56,  82,  75,  69,  94,  45,  52,  30,\n",
       "        62,  54,  88,  61,  63,  58,  43,  86,  37,  46,  77,  60,  53,\n",
       "        81,  34,  33,  51,  47, 100,  96,  49,  59,  41,  42,  38,  44,\n",
       "        25,  36,  98,  31,  32,  29,  35,  27,  26,  24,  39, 103,  13,\n",
       "        10,  18,  22,  23,  20,  15,  21, 102, 101,  14,  16,  17, 105,\n",
       "        19,   8,  99, 104, 110,   7,  12,   6,  11,   9])"
      ]
     },
     "execution_count": 134,
     "metadata": {},
     "output_type": "execute_result"
    }
   ],
   "source": [
    "df['OCLTV'].unique()"
   ]
  },
  {
   "cell_type": "markdown",
   "metadata": {},
   "source": [
    "### Dropping entrys with 0 values for 'Units'"
   ]
  },
  {
   "cell_type": "code",
   "execution_count": 135,
   "metadata": {},
   "outputs": [
    {
     "data": {
      "text/plain": [
       "array([1, 2, 3, 4])"
      ]
     },
     "execution_count": 135,
     "metadata": {},
     "output_type": "execute_result"
    }
   ],
   "source": [
    "df = df[df['Units'] != 0]\n",
    "df['Units'].unique()"
   ]
  },
  {
   "cell_type": "code",
   "execution_count": 136,
   "metadata": {},
   "outputs": [
    {
     "name": "stdout",
     "output_type": "stream",
     "text": [
      "                         0\n",
      "CreditScore              0\n",
      "FirstPaymentDate         0\n",
      "FirstTimeHomebuyer       0\n",
      "MaturityDate             0\n",
      "MSA                      0\n",
      "MIP                 183880\n",
      "Units                    0\n",
      "Occupancy                0\n",
      "OCLTV                    0\n",
      "DTI                      0\n",
      "OrigUPB                  0\n",
      "LTV                      0\n",
      "OrigInterestRate         0\n",
      "PPM                      0\n",
      "PropertyType             0\n",
      "LoanPurpose              0\n",
      "OrigLoanTerm             0\n",
      "NumBorrowers             0\n",
      "EverDelinquent      232923\n",
      "MonthsDelinquent    232923\n",
      "MonthsInRepayment        0\n"
     ]
    }
   ],
   "source": [
    "NaN = {}\n",
    "\n",
    "for i in list(df.columns):\n",
    "    if i in ['CreditScore', 'FirstPaymentDate', 'FirstTimeHomebuyer', 'MaturityDate',\n",
    "       'MSA', 'MIP', 'Units', 'Occupancy', 'OCLTV', 'DTI', 'OrigUPB', 'LTV',\n",
    "       'OrigInterestRate', 'PPM', 'PropertyType', 'LoanPurpose',\n",
    "       'OrigLoanTerm', 'NumBorrowers', 'EverDelinquent', 'MonthsDelinquent',\n",
    "       'MonthsInRepayment']:\n",
    "        Y = np.sum(df[i] == 0)\n",
    "        NaN[i] = Y\n",
    "\n",
    "Y = pd.DataFrame.from_dict(NaN, orient='index')\n",
    "print(Y)"
   ]
  },
  {
   "cell_type": "markdown",
   "metadata": {},
   "source": [
    "## Analysis & Preparation"
   ]
  },
  {
   "cell_type": "code",
   "execution_count": 137,
   "metadata": {},
   "outputs": [
    {
     "data": {
      "text/html": [
       "<style type=\"text/css\">\n",
       "#T_24a77_row0_col0, #T_24a77_row0_col1, #T_24a77_row0_col2, #T_24a77_row0_col3, #T_24a77_row0_col4, #T_24a77_row0_col5, #T_24a77_row0_col6, #T_24a77_row0_col7, #T_24a77_row1_col0, #T_24a77_row1_col2, #T_24a77_row2_col0, #T_24a77_row2_col2, #T_24a77_row3_col0, #T_24a77_row4_col0, #T_24a77_row4_col1, #T_24a77_row4_col2, #T_24a77_row4_col3, #T_24a77_row4_col4, #T_24a77_row4_col5, #T_24a77_row4_col6, #T_24a77_row4_col7, #T_24a77_row5_col0, #T_24a77_row5_col1, #T_24a77_row5_col2, #T_24a77_row5_col3, #T_24a77_row5_col4, #T_24a77_row5_col5, #T_24a77_row5_col6, #T_24a77_row5_col7, #T_24a77_row6_col0, #T_24a77_row6_col1, #T_24a77_row6_col2, #T_24a77_row6_col3, #T_24a77_row6_col4, #T_24a77_row6_col5, #T_24a77_row6_col6, #T_24a77_row6_col7, #T_24a77_row7_col0, #T_24a77_row7_col1, #T_24a77_row7_col2, #T_24a77_row7_col3, #T_24a77_row7_col4, #T_24a77_row7_col5, #T_24a77_row7_col6, #T_24a77_row7_col7, #T_24a77_row8_col0, #T_24a77_row9_col0, #T_24a77_row9_col1, #T_24a77_row9_col2, #T_24a77_row9_col3, #T_24a77_row9_col4, #T_24a77_row9_col5, #T_24a77_row9_col6, #T_24a77_row9_col7, #T_24a77_row10_col0, #T_24a77_row10_col1, #T_24a77_row10_col2, #T_24a77_row10_col3, #T_24a77_row10_col4, #T_24a77_row10_col5, #T_24a77_row10_col6, #T_24a77_row10_col7, #T_24a77_row11_col0, #T_24a77_row11_col1, #T_24a77_row11_col2, #T_24a77_row11_col3, #T_24a77_row11_col4, #T_24a77_row11_col5, #T_24a77_row11_col6, #T_24a77_row11_col7, #T_24a77_row12_col0, #T_24a77_row12_col1, #T_24a77_row12_col2, #T_24a77_row12_col3, #T_24a77_row12_col4, #T_24a77_row12_col5, #T_24a77_row12_col6, #T_24a77_row12_col7, #T_24a77_row13_col0, #T_24a77_row13_col1, #T_24a77_row13_col2, #T_24a77_row13_col3, #T_24a77_row13_col4, #T_24a77_row13_col5, #T_24a77_row13_col6, #T_24a77_row13_col7, #T_24a77_row14_col0, #T_24a77_row14_col1, #T_24a77_row14_col2, #T_24a77_row14_col3, #T_24a77_row14_col4, #T_24a77_row14_col5, #T_24a77_row14_col6, #T_24a77_row14_col7, #T_24a77_row15_col0, #T_24a77_row15_col1, #T_24a77_row15_col2, #T_24a77_row15_col3, #T_24a77_row15_col4, #T_24a77_row15_col5, #T_24a77_row15_col6, #T_24a77_row15_col7 {\n",
       "  background-color: #440154;\n",
       "  color: #f1f1f1;\n",
       "}\n",
       "#T_24a77_row1_col1, #T_24a77_row1_col3, #T_24a77_row1_col4, #T_24a77_row1_col5, #T_24a77_row1_col6 {\n",
       "  background-color: #f6e620;\n",
       "  color: #000000;\n",
       "}\n",
       "#T_24a77_row1_col7 {\n",
       "  background-color: #29798e;\n",
       "  color: #f1f1f1;\n",
       "}\n",
       "#T_24a77_row2_col1, #T_24a77_row2_col3, #T_24a77_row2_col4, #T_24a77_row2_col5, #T_24a77_row2_col6, #T_24a77_row8_col2, #T_24a77_row8_col7 {\n",
       "  background-color: #fde725;\n",
       "  color: #000000;\n",
       "}\n",
       "#T_24a77_row2_col7 {\n",
       "  background-color: #297b8e;\n",
       "  color: #f1f1f1;\n",
       "}\n",
       "#T_24a77_row3_col1 {\n",
       "  background-color: #463480;\n",
       "  color: #f1f1f1;\n",
       "}\n",
       "#T_24a77_row3_col2 {\n",
       "  background-color: #414287;\n",
       "  color: #f1f1f1;\n",
       "}\n",
       "#T_24a77_row3_col3 {\n",
       "  background-color: #471365;\n",
       "  color: #f1f1f1;\n",
       "}\n",
       "#T_24a77_row3_col4 {\n",
       "  background-color: #482576;\n",
       "  color: #f1f1f1;\n",
       "}\n",
       "#T_24a77_row3_col5 {\n",
       "  background-color: #46337f;\n",
       "  color: #f1f1f1;\n",
       "}\n",
       "#T_24a77_row3_col6 {\n",
       "  background-color: #424186;\n",
       "  color: #f1f1f1;\n",
       "}\n",
       "#T_24a77_row3_col7 {\n",
       "  background-color: #482475;\n",
       "  color: #f1f1f1;\n",
       "}\n",
       "#T_24a77_row8_col1 {\n",
       "  background-color: #25ac82;\n",
       "  color: #f1f1f1;\n",
       "}\n",
       "#T_24a77_row8_col3 {\n",
       "  background-color: #471063;\n",
       "  color: #f1f1f1;\n",
       "}\n",
       "#T_24a77_row8_col4 {\n",
       "  background-color: #297a8e;\n",
       "  color: #f1f1f1;\n",
       "}\n",
       "#T_24a77_row8_col5 {\n",
       "  background-color: #1fa287;\n",
       "  color: #f1f1f1;\n",
       "}\n",
       "#T_24a77_row8_col6 {\n",
       "  background-color: #73d056;\n",
       "  color: #000000;\n",
       "}\n",
       "</style>\n",
       "<table id=\"T_24a77\">\n",
       "  <thead>\n",
       "    <tr>\n",
       "      <th class=\"blank level0\" >&nbsp;</th>\n",
       "      <th id=\"T_24a77_level0_col0\" class=\"col_heading level0 col0\" >count</th>\n",
       "      <th id=\"T_24a77_level0_col1\" class=\"col_heading level0 col1\" >mean</th>\n",
       "      <th id=\"T_24a77_level0_col2\" class=\"col_heading level0 col2\" >std</th>\n",
       "      <th id=\"T_24a77_level0_col3\" class=\"col_heading level0 col3\" >min</th>\n",
       "      <th id=\"T_24a77_level0_col4\" class=\"col_heading level0 col4\" >25%</th>\n",
       "      <th id=\"T_24a77_level0_col5\" class=\"col_heading level0 col5\" >50%</th>\n",
       "      <th id=\"T_24a77_level0_col6\" class=\"col_heading level0 col6\" >75%</th>\n",
       "      <th id=\"T_24a77_level0_col7\" class=\"col_heading level0 col7\" >max</th>\n",
       "    </tr>\n",
       "  </thead>\n",
       "  <tbody>\n",
       "    <tr>\n",
       "      <th id=\"T_24a77_level0_row0\" class=\"row_heading level0 row0\" >CreditScore</th>\n",
       "      <td id=\"T_24a77_row0_col0\" class=\"data row0 col0\" >290260.000000</td>\n",
       "      <td id=\"T_24a77_row0_col1\" class=\"data row0 col1\" >711.840870</td>\n",
       "      <td id=\"T_24a77_row0_col2\" class=\"data row0 col2\" >51.300361</td>\n",
       "      <td id=\"T_24a77_row0_col3\" class=\"data row0 col3\" >335.000000</td>\n",
       "      <td id=\"T_24a77_row0_col4\" class=\"data row0 col4\" >676.000000</td>\n",
       "      <td id=\"T_24a77_row0_col5\" class=\"data row0 col5\" >717.000000</td>\n",
       "      <td id=\"T_24a77_row0_col6\" class=\"data row0 col6\" >753.000000</td>\n",
       "      <td id=\"T_24a77_row0_col7\" class=\"data row0 col7\" >849.000000</td>\n",
       "    </tr>\n",
       "    <tr>\n",
       "      <th id=\"T_24a77_level0_row1\" class=\"row_heading level0 row1\" >FirstPaymentDate</th>\n",
       "      <td id=\"T_24a77_row1_col0\" class=\"data row1 col0\" >290260.000000</td>\n",
       "      <td id=\"T_24a77_row1_col1\" class=\"data row1 col1\" >199904.759788</td>\n",
       "      <td id=\"T_24a77_row1_col2\" class=\"data row1 col2\" >13.837042</td>\n",
       "      <td id=\"T_24a77_row1_col3\" class=\"data row1 col3\" >199901.000000</td>\n",
       "      <td id=\"T_24a77_row1_col4\" class=\"data row1 col4\" >199903.000000</td>\n",
       "      <td id=\"T_24a77_row1_col5\" class=\"data row1 col5\" >199904.000000</td>\n",
       "      <td id=\"T_24a77_row1_col6\" class=\"data row1 col6\" >199905.000000</td>\n",
       "      <td id=\"T_24a77_row1_col7\" class=\"data row1 col7\" >201303.000000</td>\n",
       "    </tr>\n",
       "    <tr>\n",
       "      <th id=\"T_24a77_level0_row2\" class=\"row_heading level0 row2\" >MaturityDate</th>\n",
       "      <td id=\"T_24a77_row2_col0\" class=\"data row2 col0\" >290260.000000</td>\n",
       "      <td id=\"T_24a77_row2_col1\" class=\"data row2 col1\" >202902.368432</td>\n",
       "      <td id=\"T_24a77_row2_col2\" class=\"data row2 col2\" >16.057459</td>\n",
       "      <td id=\"T_24a77_row2_col3\" class=\"data row2 col3\" >202402.000000</td>\n",
       "      <td id=\"T_24a77_row2_col4\" class=\"data row2 col4\" >202902.000000</td>\n",
       "      <td id=\"T_24a77_row2_col5\" class=\"data row2 col5\" >202903.000000</td>\n",
       "      <td id=\"T_24a77_row2_col6\" class=\"data row2 col6\" >202904.000000</td>\n",
       "      <td id=\"T_24a77_row2_col7\" class=\"data row2 col7\" >204302.000000</td>\n",
       "    </tr>\n",
       "    <tr>\n",
       "      <th id=\"T_24a77_level0_row3\" class=\"row_heading level0 row3\" >MSA</th>\n",
       "      <td id=\"T_24a77_row3_col0\" class=\"data row3 col0\" >290260.000000</td>\n",
       "      <td id=\"T_24a77_row3_col1\" class=\"data row3 col1\" >30725.768539</td>\n",
       "      <td id=\"T_24a77_row3_col2\" class=\"data row3 col2\" >10584.342545</td>\n",
       "      <td id=\"T_24a77_row3_col3\" class=\"data row3 col3\" >10180.000000</td>\n",
       "      <td id=\"T_24a77_row3_col4\" class=\"data row3 col4\" >20764.000000</td>\n",
       "      <td id=\"T_24a77_row3_col5\" class=\"data row3 col5\" >29820.000000</td>\n",
       "      <td id=\"T_24a77_row3_col6\" class=\"data row3 col6\" >39580.000000</td>\n",
       "      <td id=\"T_24a77_row3_col7\" class=\"data row3 col7\" >49740.000000</td>\n",
       "    </tr>\n",
       "    <tr>\n",
       "      <th id=\"T_24a77_level0_row4\" class=\"row_heading level0 row4\" >MIP</th>\n",
       "      <td id=\"T_24a77_row4_col0\" class=\"data row4 col0\" >290260.000000</td>\n",
       "      <td id=\"T_24a77_row4_col1\" class=\"data row4 col1\" >9.202856</td>\n",
       "      <td id=\"T_24a77_row4_col2\" class=\"data row4 col2\" >12.641588</td>\n",
       "      <td id=\"T_24a77_row4_col3\" class=\"data row4 col3\" >0.000000</td>\n",
       "      <td id=\"T_24a77_row4_col4\" class=\"data row4 col4\" >0.000000</td>\n",
       "      <td id=\"T_24a77_row4_col5\" class=\"data row4 col5\" >0.000000</td>\n",
       "      <td id=\"T_24a77_row4_col6\" class=\"data row4 col6\" >25.000000</td>\n",
       "      <td id=\"T_24a77_row4_col7\" class=\"data row4 col7\" >55.000000</td>\n",
       "    </tr>\n",
       "    <tr>\n",
       "      <th id=\"T_24a77_level0_row5\" class=\"row_heading level0 row5\" >Units</th>\n",
       "      <td id=\"T_24a77_row5_col0\" class=\"data row5 col0\" >290260.000000</td>\n",
       "      <td id=\"T_24a77_row5_col1\" class=\"data row5 col1\" >1.025873</td>\n",
       "      <td id=\"T_24a77_row5_col2\" class=\"data row5 col2\" >0.202341</td>\n",
       "      <td id=\"T_24a77_row5_col3\" class=\"data row5 col3\" >1.000000</td>\n",
       "      <td id=\"T_24a77_row5_col4\" class=\"data row5 col4\" >1.000000</td>\n",
       "      <td id=\"T_24a77_row5_col5\" class=\"data row5 col5\" >1.000000</td>\n",
       "      <td id=\"T_24a77_row5_col6\" class=\"data row5 col6\" >1.000000</td>\n",
       "      <td id=\"T_24a77_row5_col7\" class=\"data row5 col7\" >4.000000</td>\n",
       "    </tr>\n",
       "    <tr>\n",
       "      <th id=\"T_24a77_level0_row6\" class=\"row_heading level0 row6\" >OCLTV</th>\n",
       "      <td id=\"T_24a77_row6_col0\" class=\"data row6 col0\" >290260.000000</td>\n",
       "      <td id=\"T_24a77_row6_col1\" class=\"data row6 col1\" >76.950145</td>\n",
       "      <td id=\"T_24a77_row6_col2\" class=\"data row6 col2\" >15.231244</td>\n",
       "      <td id=\"T_24a77_row6_col3\" class=\"data row6 col3\" >6.000000</td>\n",
       "      <td id=\"T_24a77_row6_col4\" class=\"data row6 col4\" >70.000000</td>\n",
       "      <td id=\"T_24a77_row6_col5\" class=\"data row6 col5\" >80.000000</td>\n",
       "      <td id=\"T_24a77_row6_col6\" class=\"data row6 col6\" >90.000000</td>\n",
       "      <td id=\"T_24a77_row6_col7\" class=\"data row6 col7\" >110.000000</td>\n",
       "    </tr>\n",
       "    <tr>\n",
       "      <th id=\"T_24a77_level0_row7\" class=\"row_heading level0 row7\" >DTI</th>\n",
       "      <td id=\"T_24a77_row7_col0\" class=\"data row7 col0\" >290260.000000</td>\n",
       "      <td id=\"T_24a77_row7_col1\" class=\"data row7 col1\" >31.875408</td>\n",
       "      <td id=\"T_24a77_row7_col2\" class=\"data row7 col2\" >10.766264</td>\n",
       "      <td id=\"T_24a77_row7_col3\" class=\"data row7 col3\" >1.000000</td>\n",
       "      <td id=\"T_24a77_row7_col4\" class=\"data row7 col4\" >25.000000</td>\n",
       "      <td id=\"T_24a77_row7_col5\" class=\"data row7 col5\" >31.000000</td>\n",
       "      <td id=\"T_24a77_row7_col6\" class=\"data row7 col6\" >39.000000</td>\n",
       "      <td id=\"T_24a77_row7_col7\" class=\"data row7 col7\" >65.000000</td>\n",
       "    </tr>\n",
       "    <tr>\n",
       "      <th id=\"T_24a77_level0_row8\" class=\"row_heading level0 row8\" >OrigUPB</th>\n",
       "      <td id=\"T_24a77_row8_col0\" class=\"data row8 col0\" >290260.000000</td>\n",
       "      <td id=\"T_24a77_row8_col1\" class=\"data row8 col1\" >124987.111555</td>\n",
       "      <td id=\"T_24a77_row8_col2\" class=\"data row8 col2\" >53635.155408</td>\n",
       "      <td id=\"T_24a77_row8_col3\" class=\"data row8 col3\" >8000.000000</td>\n",
       "      <td id=\"T_24a77_row8_col4\" class=\"data row8 col4\" >83000.000000</td>\n",
       "      <td id=\"T_24a77_row8_col5\" class=\"data row8 col5\" >117000.000000</td>\n",
       "      <td id=\"T_24a77_row8_col6\" class=\"data row8 col6\" >160000.000000</td>\n",
       "      <td id=\"T_24a77_row8_col7\" class=\"data row8 col7\" >497000.000000</td>\n",
       "    </tr>\n",
       "    <tr>\n",
       "      <th id=\"T_24a77_level0_row9\" class=\"row_heading level0 row9\" >LTV</th>\n",
       "      <td id=\"T_24a77_row9_col0\" class=\"data row9 col0\" >290260.000000</td>\n",
       "      <td id=\"T_24a77_row9_col1\" class=\"data row9 col1\" >76.927579</td>\n",
       "      <td id=\"T_24a77_row9_col2\" class=\"data row9 col2\" >15.220384</td>\n",
       "      <td id=\"T_24a77_row9_col3\" class=\"data row9 col3\" >6.000000</td>\n",
       "      <td id=\"T_24a77_row9_col4\" class=\"data row9 col4\" >70.000000</td>\n",
       "      <td id=\"T_24a77_row9_col5\" class=\"data row9 col5\" >80.000000</td>\n",
       "      <td id=\"T_24a77_row9_col6\" class=\"data row9 col6\" >90.000000</td>\n",
       "      <td id=\"T_24a77_row9_col7\" class=\"data row9 col7\" >103.000000</td>\n",
       "    </tr>\n",
       "    <tr>\n",
       "      <th id=\"T_24a77_level0_row10\" class=\"row_heading level0 row10\" >OrigInterestRate</th>\n",
       "      <td id=\"T_24a77_row10_col0\" class=\"data row10 col0\" >290260.000000</td>\n",
       "      <td id=\"T_24a77_row10_col1\" class=\"data row10 col1\" >6.926089</td>\n",
       "      <td id=\"T_24a77_row10_col2\" class=\"data row10 col2\" >0.343334</td>\n",
       "      <td id=\"T_24a77_row10_col3\" class=\"data row10 col3\" >4.000000</td>\n",
       "      <td id=\"T_24a77_row10_col4\" class=\"data row10 col4\" >6.750000</td>\n",
       "      <td id=\"T_24a77_row10_col5\" class=\"data row10 col5\" >6.875000</td>\n",
       "      <td id=\"T_24a77_row10_col6\" class=\"data row10 col6\" >7.125000</td>\n",
       "      <td id=\"T_24a77_row10_col7\" class=\"data row10 col7\" >12.350000</td>\n",
       "    </tr>\n",
       "    <tr>\n",
       "      <th id=\"T_24a77_level0_row11\" class=\"row_heading level0 row11\" >OrigLoanTerm</th>\n",
       "      <td id=\"T_24a77_row11_col0\" class=\"data row11 col0\" >290260.000000</td>\n",
       "      <td id=\"T_24a77_row11_col1\" class=\"data row11 col1\" >359.835599</td>\n",
       "      <td id=\"T_24a77_row11_col2\" class=\"data row11 col2\" >2.285492</td>\n",
       "      <td id=\"T_24a77_row11_col3\" class=\"data row11 col3\" >301.000000</td>\n",
       "      <td id=\"T_24a77_row11_col4\" class=\"data row11 col4\" >360.000000</td>\n",
       "      <td id=\"T_24a77_row11_col5\" class=\"data row11 col5\" >360.000000</td>\n",
       "      <td id=\"T_24a77_row11_col6\" class=\"data row11 col6\" >360.000000</td>\n",
       "      <td id=\"T_24a77_row11_col7\" class=\"data row11 col7\" >361.000000</td>\n",
       "    </tr>\n",
       "    <tr>\n",
       "      <th id=\"T_24a77_level0_row12\" class=\"row_heading level0 row12\" >NumBorrowers</th>\n",
       "      <td id=\"T_24a77_row12_col0\" class=\"data row12 col0\" >290260.000000</td>\n",
       "      <td id=\"T_24a77_row12_col1\" class=\"data row12 col1\" >1.645001</td>\n",
       "      <td id=\"T_24a77_row12_col2\" class=\"data row12 col2\" >0.478514</td>\n",
       "      <td id=\"T_24a77_row12_col3\" class=\"data row12 col3\" >1.000000</td>\n",
       "      <td id=\"T_24a77_row12_col4\" class=\"data row12 col4\" >1.000000</td>\n",
       "      <td id=\"T_24a77_row12_col5\" class=\"data row12 col5\" >2.000000</td>\n",
       "      <td id=\"T_24a77_row12_col6\" class=\"data row12 col6\" >2.000000</td>\n",
       "      <td id=\"T_24a77_row12_col7\" class=\"data row12 col7\" >2.000000</td>\n",
       "    </tr>\n",
       "    <tr>\n",
       "      <th id=\"T_24a77_level0_row13\" class=\"row_heading level0 row13\" >EverDelinquent</th>\n",
       "      <td id=\"T_24a77_row13_col0\" class=\"data row13 col0\" >290260.000000</td>\n",
       "      <td id=\"T_24a77_row13_col1\" class=\"data row13 col1\" >0.197537</td>\n",
       "      <td id=\"T_24a77_row13_col2\" class=\"data row13 col2\" >0.398141</td>\n",
       "      <td id=\"T_24a77_row13_col3\" class=\"data row13 col3\" >0.000000</td>\n",
       "      <td id=\"T_24a77_row13_col4\" class=\"data row13 col4\" >0.000000</td>\n",
       "      <td id=\"T_24a77_row13_col5\" class=\"data row13 col5\" >0.000000</td>\n",
       "      <td id=\"T_24a77_row13_col6\" class=\"data row13 col6\" >0.000000</td>\n",
       "      <td id=\"T_24a77_row13_col7\" class=\"data row13 col7\" >1.000000</td>\n",
       "    </tr>\n",
       "    <tr>\n",
       "      <th id=\"T_24a77_level0_row14\" class=\"row_heading level0 row14\" >MonthsDelinquent</th>\n",
       "      <td id=\"T_24a77_row14_col0\" class=\"data row14 col0\" >290260.000000</td>\n",
       "      <td id=\"T_24a77_row14_col1\" class=\"data row14 col1\" >1.830349</td>\n",
       "      <td id=\"T_24a77_row14_col2\" class=\"data row14 col2\" >8.789202</td>\n",
       "      <td id=\"T_24a77_row14_col3\" class=\"data row14 col3\" >0.000000</td>\n",
       "      <td id=\"T_24a77_row14_col4\" class=\"data row14 col4\" >0.000000</td>\n",
       "      <td id=\"T_24a77_row14_col5\" class=\"data row14 col5\" >0.000000</td>\n",
       "      <td id=\"T_24a77_row14_col6\" class=\"data row14 col6\" >0.000000</td>\n",
       "      <td id=\"T_24a77_row14_col7\" class=\"data row14 col7\" >180.000000</td>\n",
       "    </tr>\n",
       "    <tr>\n",
       "      <th id=\"T_24a77_level0_row15\" class=\"row_heading level0 row15\" >MonthsInRepayment</th>\n",
       "      <td id=\"T_24a77_row15_col0\" class=\"data row15 col0\" >290260.000000</td>\n",
       "      <td id=\"T_24a77_row15_col1\" class=\"data row15 col1\" >60.776249</td>\n",
       "      <td id=\"T_24a77_row15_col2\" class=\"data row15 col2\" >46.107087</td>\n",
       "      <td id=\"T_24a77_row15_col3\" class=\"data row15 col3\" >1.000000</td>\n",
       "      <td id=\"T_24a77_row15_col4\" class=\"data row15 col4\" >34.000000</td>\n",
       "      <td id=\"T_24a77_row15_col5\" class=\"data row15 col5\" >48.000000</td>\n",
       "      <td id=\"T_24a77_row15_col6\" class=\"data row15 col6\" >63.000000</td>\n",
       "      <td id=\"T_24a77_row15_col7\" class=\"data row15 col7\" >212.000000</td>\n",
       "    </tr>\n",
       "  </tbody>\n",
       "</table>\n"
      ],
      "text/plain": [
       "<pandas.io.formats.style.Styler at 0x322a8bef0>"
      ]
     },
     "execution_count": 137,
     "metadata": {},
     "output_type": "execute_result"
    }
   ],
   "source": [
    "df.describe(exclude=[object]).T.style.background_gradient(cmap='viridis')"
   ]
  },
  {
   "cell_type": "code",
   "execution_count": 138,
   "metadata": {},
   "outputs": [
    {
     "data": {
      "text/html": [
       "<style type=\"text/css\">\n",
       "#T_e3c06_row0_col0, #T_e3c06_row1_col1, #T_e3c06_row2_col2, #T_e3c06_row3_col3, #T_e3c06_row4_col4, #T_e3c06_row5_col5, #T_e3c06_row6_col6, #T_e3c06_row6_col9, #T_e3c06_row7_col7, #T_e3c06_row8_col8, #T_e3c06_row9_col6, #T_e3c06_row9_col9, #T_e3c06_row10_col10, #T_e3c06_row11_col11, #T_e3c06_row12_col12, #T_e3c06_row13_col13, #T_e3c06_row14_col14, #T_e3c06_row15_col15 {\n",
       "  background-color: #fde725;\n",
       "  color: #000000;\n",
       "}\n",
       "#T_e3c06_row0_col1, #T_e3c06_row4_col11, #T_e3c06_row6_col11, #T_e3c06_row7_col11, #T_e3c06_row9_col11, #T_e3c06_row15_col11 {\n",
       "  background-color: #2b758e;\n",
       "  color: #f1f1f1;\n",
       "}\n",
       "#T_e3c06_row0_col2, #T_e3c06_row4_col3, #T_e3c06_row6_col2, #T_e3c06_row9_col2, #T_e3c06_row10_col2 {\n",
       "  background-color: #440256;\n",
       "  color: #f1f1f1;\n",
       "}\n",
       "#T_e3c06_row0_col3, #T_e3c06_row4_col12, #T_e3c06_row7_col3, #T_e3c06_row10_col8, #T_e3c06_row15_col5 {\n",
       "  background-color: #481a6c;\n",
       "  color: #f1f1f1;\n",
       "}\n",
       "#T_e3c06_row0_col4, #T_e3c06_row0_col6, #T_e3c06_row0_col7, #T_e3c06_row0_col9, #T_e3c06_row0_col10, #T_e3c06_row0_col13, #T_e3c06_row0_col14, #T_e3c06_row1_col11, #T_e3c06_row3_col2, #T_e3c06_row4_col2, #T_e3c06_row4_col5, #T_e3c06_row6_col3, #T_e3c06_row6_col5, #T_e3c06_row7_col12, #T_e3c06_row8_col15, #T_e3c06_row9_col3, #T_e3c06_row9_col5, #T_e3c06_row11_col1, #T_e3c06_row12_col2, #T_e3c06_row13_col0, #T_e3c06_row15_col2, #T_e3c06_row15_col8 {\n",
       "  background-color: #440154;\n",
       "  color: #f1f1f1;\n",
       "}\n",
       "#T_e3c06_row0_col5, #T_e3c06_row7_col5 {\n",
       "  background-color: #481668;\n",
       "  color: #f1f1f1;\n",
       "}\n",
       "#T_e3c06_row0_col8, #T_e3c06_row2_col4, #T_e3c06_row7_col10, #T_e3c06_row14_col10 {\n",
       "  background-color: #443a83;\n",
       "  color: #f1f1f1;\n",
       "}\n",
       "#T_e3c06_row0_col11, #T_e3c06_row12_col11, #T_e3c06_row13_col1 {\n",
       "  background-color: #2d718e;\n",
       "  color: #f1f1f1;\n",
       "}\n",
       "#T_e3c06_row0_col12, #T_e3c06_row1_col3, #T_e3c06_row2_col3, #T_e3c06_row4_col0, #T_e3c06_row10_col12, #T_e3c06_row11_col3, #T_e3c06_row11_col5, #T_e3c06_row14_col12, #T_e3c06_row15_col12 {\n",
       "  background-color: #471365;\n",
       "  color: #f1f1f1;\n",
       "}\n",
       "#T_e3c06_row0_col15, #T_e3c06_row1_col6, #T_e3c06_row1_col9, #T_e3c06_row8_col4, #T_e3c06_row13_col10 {\n",
       "  background-color: #433d84;\n",
       "  color: #f1f1f1;\n",
       "}\n",
       "#T_e3c06_row1_col0, #T_e3c06_row3_col0 {\n",
       "  background-color: #3e4a89;\n",
       "  color: #f1f1f1;\n",
       "}\n",
       "#T_e3c06_row1_col2, #T_e3c06_row12_col4 {\n",
       "  background-color: #46337f;\n",
       "  color: #f1f1f1;\n",
       "}\n",
       "#T_e3c06_row1_col4, #T_e3c06_row1_col15, #T_e3c06_row3_col6, #T_e3c06_row3_col9, #T_e3c06_row5_col14, #T_e3c06_row12_col13 {\n",
       "  background-color: #453581;\n",
       "  color: #f1f1f1;\n",
       "}\n",
       "#T_e3c06_row1_col5 {\n",
       "  background-color: #471063;\n",
       "  color: #f1f1f1;\n",
       "}\n",
       "#T_e3c06_row1_col7, #T_e3c06_row2_col10, #T_e3c06_row5_col7 {\n",
       "  background-color: #472d7b;\n",
       "  color: #f1f1f1;\n",
       "}\n",
       "#T_e3c06_row1_col8, #T_e3c06_row2_col6, #T_e3c06_row2_col9, #T_e3c06_row4_col7, #T_e3c06_row5_col15 {\n",
       "  background-color: #414287;\n",
       "  color: #f1f1f1;\n",
       "}\n",
       "#T_e3c06_row1_col10, #T_e3c06_row3_col12, #T_e3c06_row12_col14, #T_e3c06_row13_col8, #T_e3c06_row14_col8, #T_e3c06_row15_col6, #T_e3c06_row15_col9 {\n",
       "  background-color: #472a7a;\n",
       "  color: #f1f1f1;\n",
       "}\n",
       "#T_e3c06_row1_col12, #T_e3c06_row4_col15, #T_e3c06_row7_col0, #T_e3c06_row8_col14 {\n",
       "  background-color: #482576;\n",
       "  color: #f1f1f1;\n",
       "}\n",
       "#T_e3c06_row1_col13, #T_e3c06_row3_col13, #T_e3c06_row4_col14, #T_e3c06_row8_col7, #T_e3c06_row10_col14, #T_e3c06_row11_col0 {\n",
       "  background-color: #414487;\n",
       "  color: #f1f1f1;\n",
       "}\n",
       "#T_e3c06_row1_col14, #T_e3c06_row3_col15, #T_e3c06_row5_col6, #T_e3c06_row5_col9, #T_e3c06_row8_col13 {\n",
       "  background-color: #453781;\n",
       "  color: #f1f1f1;\n",
       "}\n",
       "#T_e3c06_row2_col0, #T_e3c06_row5_col8, #T_e3c06_row6_col10, #T_e3c06_row6_col14, #T_e3c06_row9_col10, #T_e3c06_row9_col14 {\n",
       "  background-color: #404688;\n",
       "  color: #f1f1f1;\n",
       "}\n",
       "#T_e3c06_row2_col1 {\n",
       "  background-color: #23888e;\n",
       "  color: #f1f1f1;\n",
       "}\n",
       "#T_e3c06_row2_col5, #T_e3c06_row5_col3 {\n",
       "  background-color: #471164;\n",
       "  color: #f1f1f1;\n",
       "}\n",
       "#T_e3c06_row2_col7, #T_e3c06_row3_col14 {\n",
       "  background-color: #46327e;\n",
       "  color: #f1f1f1;\n",
       "}\n",
       "#T_e3c06_row2_col8 {\n",
       "  background-color: #423f85;\n",
       "  color: #f1f1f1;\n",
       "}\n",
       "#T_e3c06_row2_col11 {\n",
       "  background-color: #7cd250;\n",
       "  color: #000000;\n",
       "}\n",
       "#T_e3c06_row2_col12, #T_e3c06_row8_col5 {\n",
       "  background-color: #482071;\n",
       "  color: #f1f1f1;\n",
       "}\n",
       "#T_e3c06_row2_col13, #T_e3c06_row11_col6, #T_e3c06_row11_col9, #T_e3c06_row14_col4, #T_e3c06_row15_col0 {\n",
       "  background-color: #3f4788;\n",
       "  color: #f1f1f1;\n",
       "}\n",
       "#T_e3c06_row2_col14, #T_e3c06_row11_col8, #T_e3c06_row11_col14, #T_e3c06_row13_col7 {\n",
       "  background-color: #443983;\n",
       "  color: #f1f1f1;\n",
       "}\n",
       "#T_e3c06_row2_col15, #T_e3c06_row12_col0 {\n",
       "  background-color: #443b84;\n",
       "  color: #f1f1f1;\n",
       "}\n",
       "#T_e3c06_row3_col1, #T_e3c06_row3_col11, #T_e3c06_row5_col1, #T_e3c06_row14_col1 {\n",
       "  background-color: #2c728e;\n",
       "  color: #f1f1f1;\n",
       "}\n",
       "#T_e3c06_row3_col4, #T_e3c06_row11_col7 {\n",
       "  background-color: #472e7c;\n",
       "  color: #f1f1f1;\n",
       "}\n",
       "#T_e3c06_row3_col5, #T_e3c06_row13_col3, #T_e3c06_row14_col5 {\n",
       "  background-color: #470e61;\n",
       "  color: #f1f1f1;\n",
       "}\n",
       "#T_e3c06_row3_col7, #T_e3c06_row5_col4, #T_e3c06_row7_col15, #T_e3c06_row11_col10, #T_e3c06_row12_col15 {\n",
       "  background-color: #472f7d;\n",
       "  color: #f1f1f1;\n",
       "}\n",
       "#T_e3c06_row3_col8 {\n",
       "  background-color: #3e4c8a;\n",
       "  color: #f1f1f1;\n",
       "}\n",
       "#T_e3c06_row3_col10 {\n",
       "  background-color: #46307e;\n",
       "  color: #f1f1f1;\n",
       "}\n",
       "#T_e3c06_row4_col1, #T_e3c06_row13_col15 {\n",
       "  background-color: #2d708e;\n",
       "  color: #f1f1f1;\n",
       "}\n",
       "#T_e3c06_row4_col6, #T_e3c06_row4_col9 {\n",
       "  background-color: #60ca60;\n",
       "  color: #000000;\n",
       "}\n",
       "#T_e3c06_row4_col8, #T_e3c06_row11_col4, #T_e3c06_row12_col6, #T_e3c06_row12_col9 {\n",
       "  background-color: #433e85;\n",
       "  color: #f1f1f1;\n",
       "}\n",
       "#T_e3c06_row4_col10 {\n",
       "  background-color: #3d4d8a;\n",
       "  color: #f1f1f1;\n",
       "}\n",
       "#T_e3c06_row4_col13, #T_e3c06_row10_col13 {\n",
       "  background-color: #3a538b;\n",
       "  color: #f1f1f1;\n",
       "}\n",
       "#T_e3c06_row5_col0, #T_e3c06_row11_col13, #T_e3c06_row13_col4 {\n",
       "  background-color: #3e4989;\n",
       "  color: #f1f1f1;\n",
       "}\n",
       "#T_e3c06_row5_col2, #T_e3c06_row13_col2 {\n",
       "  background-color: #450457;\n",
       "  color: #f1f1f1;\n",
       "}\n",
       "#T_e3c06_row5_col10, #T_e3c06_row7_col14, #T_e3c06_row11_col15 {\n",
       "  background-color: #424086;\n",
       "  color: #f1f1f1;\n",
       "}\n",
       "#T_e3c06_row5_col11, #T_e3c06_row14_col11 {\n",
       "  background-color: #2c738e;\n",
       "  color: #f1f1f1;\n",
       "}\n",
       "#T_e3c06_row5_col12, #T_e3c06_row6_col12, #T_e3c06_row9_col12, #T_e3c06_row10_col15, #T_e3c06_row12_col3, #T_e3c06_row15_col7 {\n",
       "  background-color: #481c6e;\n",
       "  color: #f1f1f1;\n",
       "}\n",
       "#T_e3c06_row5_col13, #T_e3c06_row6_col7, #T_e3c06_row9_col7 {\n",
       "  background-color: #3f4889;\n",
       "  color: #f1f1f1;\n",
       "}\n",
       "#T_e3c06_row6_col0, #T_e3c06_row9_col0, #T_e3c06_row15_col10 {\n",
       "  background-color: #46075a;\n",
       "  color: #f1f1f1;\n",
       "}\n",
       "#T_e3c06_row6_col1, #T_e3c06_row9_col1, #T_e3c06_row15_col1 {\n",
       "  background-color: #2e6f8e;\n",
       "  color: #f1f1f1;\n",
       "}\n",
       "#T_e3c06_row6_col4, #T_e3c06_row9_col4 {\n",
       "  background-color: #5cc863;\n",
       "  color: #000000;\n",
       "}\n",
       "#T_e3c06_row6_col8, #T_e3c06_row6_col13, #T_e3c06_row9_col13 {\n",
       "  background-color: #39558c;\n",
       "  color: #f1f1f1;\n",
       "}\n",
       "#T_e3c06_row6_col15, #T_e3c06_row9_col15, #T_e3c06_row15_col4 {\n",
       "  background-color: #482374;\n",
       "  color: #f1f1f1;\n",
       "}\n",
       "#T_e3c06_row7_col1, #T_e3c06_row10_col11, #T_e3c06_row12_col1, #T_e3c06_row13_col11 {\n",
       "  background-color: #2b748e;\n",
       "  color: #f1f1f1;\n",
       "}\n",
       "#T_e3c06_row7_col2 {\n",
       "  background-color: #470d60;\n",
       "  color: #f1f1f1;\n",
       "}\n",
       "#T_e3c06_row7_col4, #T_e3c06_row14_col6, #T_e3c06_row14_col9 {\n",
       "  background-color: #3c508b;\n",
       "  color: #f1f1f1;\n",
       "}\n",
       "#T_e3c06_row7_col6, #T_e3c06_row7_col9 {\n",
       "  background-color: #365c8d;\n",
       "  color: #f1f1f1;\n",
       "}\n",
       "#T_e3c06_row7_col8, #T_e3c06_row7_col13 {\n",
       "  background-color: #3b528b;\n",
       "  color: #f1f1f1;\n",
       "}\n",
       "#T_e3c06_row8_col0 {\n",
       "  background-color: #404588;\n",
       "  color: #f1f1f1;\n",
       "}\n",
       "#T_e3c06_row8_col1 {\n",
       "  background-color: #2a778e;\n",
       "  color: #f1f1f1;\n",
       "}\n",
       "#T_e3c06_row8_col2 {\n",
       "  background-color: #46085c;\n",
       "  color: #f1f1f1;\n",
       "}\n",
       "#T_e3c06_row8_col3, #T_e3c06_row10_col5 {\n",
       "  background-color: #482979;\n",
       "  color: #f1f1f1;\n",
       "}\n",
       "#T_e3c06_row8_col6, #T_e3c06_row8_col9, #T_e3c06_row8_col12 {\n",
       "  background-color: #375b8d;\n",
       "  color: #f1f1f1;\n",
       "}\n",
       "#T_e3c06_row8_col10, #T_e3c06_row14_col2 {\n",
       "  background-color: #450559;\n",
       "  color: #f1f1f1;\n",
       "}\n",
       "#T_e3c06_row8_col11, #T_e3c06_row10_col1 {\n",
       "  background-color: #2c718e;\n",
       "  color: #f1f1f1;\n",
       "}\n",
       "#T_e3c06_row9_col8 {\n",
       "  background-color: #3a548c;\n",
       "  color: #f1f1f1;\n",
       "}\n",
       "#T_e3c06_row10_col0 {\n",
       "  background-color: #482475;\n",
       "  color: #f1f1f1;\n",
       "}\n",
       "#T_e3c06_row10_col3 {\n",
       "  background-color: #48186a;\n",
       "  color: #f1f1f1;\n",
       "}\n",
       "#T_e3c06_row10_col4, #T_e3c06_row10_col6 {\n",
       "  background-color: #38588c;\n",
       "  color: #f1f1f1;\n",
       "}\n",
       "#T_e3c06_row10_col7 {\n",
       "  background-color: #453882;\n",
       "  color: #f1f1f1;\n",
       "}\n",
       "#T_e3c06_row10_col9 {\n",
       "  background-color: #38598c;\n",
       "  color: #f1f1f1;\n",
       "}\n",
       "#T_e3c06_row11_col2 {\n",
       "  background-color: #3bbb75;\n",
       "  color: #f1f1f1;\n",
       "}\n",
       "#T_e3c06_row11_col12 {\n",
       "  background-color: #481d6f;\n",
       "  color: #f1f1f1;\n",
       "}\n",
       "#T_e3c06_row12_col5 {\n",
       "  background-color: #460a5d;\n",
       "  color: #f1f1f1;\n",
       "}\n",
       "#T_e3c06_row12_col7, #T_e3c06_row13_col12, #T_e3c06_row14_col3, #T_e3c06_row15_col3 {\n",
       "  background-color: #460b5e;\n",
       "  color: #f1f1f1;\n",
       "}\n",
       "#T_e3c06_row12_col8 {\n",
       "  background-color: #2f6c8e;\n",
       "  color: #f1f1f1;\n",
       "}\n",
       "#T_e3c06_row12_col10 {\n",
       "  background-color: #481f70;\n",
       "  color: #f1f1f1;\n",
       "}\n",
       "#T_e3c06_row13_col5 {\n",
       "  background-color: #481467;\n",
       "  color: #f1f1f1;\n",
       "}\n",
       "#T_e3c06_row13_col6, #T_e3c06_row13_col9 {\n",
       "  background-color: #3b518b;\n",
       "  color: #f1f1f1;\n",
       "}\n",
       "#T_e3c06_row13_col14 {\n",
       "  background-color: #20938c;\n",
       "  color: #f1f1f1;\n",
       "}\n",
       "#T_e3c06_row14_col0 {\n",
       "  background-color: #481769;\n",
       "  color: #f1f1f1;\n",
       "}\n",
       "#T_e3c06_row14_col7 {\n",
       "  background-color: #463480;\n",
       "  color: #f1f1f1;\n",
       "}\n",
       "#T_e3c06_row14_col13 {\n",
       "  background-color: #1f9a8a;\n",
       "  color: #f1f1f1;\n",
       "}\n",
       "#T_e3c06_row14_col15 {\n",
       "  background-color: #277f8e;\n",
       "  color: #f1f1f1;\n",
       "}\n",
       "#T_e3c06_row15_col13 {\n",
       "  background-color: #2a768e;\n",
       "  color: #f1f1f1;\n",
       "}\n",
       "#T_e3c06_row15_col14 {\n",
       "  background-color: #287c8e;\n",
       "  color: #f1f1f1;\n",
       "}\n",
       "</style>\n",
       "<table id=\"T_e3c06\">\n",
       "  <thead>\n",
       "    <tr>\n",
       "      <th class=\"blank level0\" >&nbsp;</th>\n",
       "      <th id=\"T_e3c06_level0_col0\" class=\"col_heading level0 col0\" >CreditScore</th>\n",
       "      <th id=\"T_e3c06_level0_col1\" class=\"col_heading level0 col1\" >FirstPaymentDate</th>\n",
       "      <th id=\"T_e3c06_level0_col2\" class=\"col_heading level0 col2\" >MaturityDate</th>\n",
       "      <th id=\"T_e3c06_level0_col3\" class=\"col_heading level0 col3\" >MSA</th>\n",
       "      <th id=\"T_e3c06_level0_col4\" class=\"col_heading level0 col4\" >MIP</th>\n",
       "      <th id=\"T_e3c06_level0_col5\" class=\"col_heading level0 col5\" >Units</th>\n",
       "      <th id=\"T_e3c06_level0_col6\" class=\"col_heading level0 col6\" >OCLTV</th>\n",
       "      <th id=\"T_e3c06_level0_col7\" class=\"col_heading level0 col7\" >DTI</th>\n",
       "      <th id=\"T_e3c06_level0_col8\" class=\"col_heading level0 col8\" >OrigUPB</th>\n",
       "      <th id=\"T_e3c06_level0_col9\" class=\"col_heading level0 col9\" >LTV</th>\n",
       "      <th id=\"T_e3c06_level0_col10\" class=\"col_heading level0 col10\" >OrigInterestRate</th>\n",
       "      <th id=\"T_e3c06_level0_col11\" class=\"col_heading level0 col11\" >OrigLoanTerm</th>\n",
       "      <th id=\"T_e3c06_level0_col12\" class=\"col_heading level0 col12\" >NumBorrowers</th>\n",
       "      <th id=\"T_e3c06_level0_col13\" class=\"col_heading level0 col13\" >EverDelinquent</th>\n",
       "      <th id=\"T_e3c06_level0_col14\" class=\"col_heading level0 col14\" >MonthsDelinquent</th>\n",
       "      <th id=\"T_e3c06_level0_col15\" class=\"col_heading level0 col15\" >MonthsInRepayment</th>\n",
       "    </tr>\n",
       "  </thead>\n",
       "  <tbody>\n",
       "    <tr>\n",
       "      <th id=\"T_e3c06_level0_row0\" class=\"row_heading level0 row0\" >CreditScore</th>\n",
       "      <td id=\"T_e3c06_row0_col0\" class=\"data row0 col0\" >1.000000</td>\n",
       "      <td id=\"T_e3c06_row0_col1\" class=\"data row0 col1\" >0.015441</td>\n",
       "      <td id=\"T_e3c06_row0_col2\" class=\"data row0 col2\" >0.000276</td>\n",
       "      <td id=\"T_e3c06_row0_col3\" class=\"data row0 col3\" >0.018790</td>\n",
       "      <td id=\"T_e3c06_row0_col4\" class=\"data row0 col4\" >-0.205051</td>\n",
       "      <td id=\"T_e3c06_row0_col5\" class=\"data row0 col5\" >0.014432</td>\n",
       "      <td id=\"T_e3c06_row0_col6\" class=\"data row0 col6\" >-0.244774</td>\n",
       "      <td id=\"T_e3c06_row0_col7\" class=\"data row0 col7\" >-0.133943</td>\n",
       "      <td id=\"T_e3c06_row0_col8\" class=\"data row0 col8\" >-0.007092</td>\n",
       "      <td id=\"T_e3c06_row0_col9\" class=\"data row0 col9\" >-0.245055</td>\n",
       "      <td id=\"T_e3c06_row0_col10\" class=\"data row0 col10\" >-0.141783</td>\n",
       "      <td id=\"T_e3c06_row0_col11\" class=\"data row0 col11\" >-0.012185</td>\n",
       "      <td id=\"T_e3c06_row0_col12\" class=\"data row0 col12\" >-0.047965</td>\n",
       "      <td id=\"T_e3c06_row0_col13\" class=\"data row0 col13\" >-0.266820</td>\n",
       "      <td id=\"T_e3c06_row0_col14\" class=\"data row0 col14\" >-0.190184</td>\n",
       "      <td id=\"T_e3c06_row0_col15\" class=\"data row0 col15\" >0.001895</td>\n",
       "    </tr>\n",
       "    <tr>\n",
       "      <th id=\"T_e3c06_level0_row1\" class=\"row_heading level0 row1\" >FirstPaymentDate</th>\n",
       "      <td id=\"T_e3c06_row1_col0\" class=\"data row1 col0\" >0.015441</td>\n",
       "      <td id=\"T_e3c06_row1_col1\" class=\"data row1 col1\" >1.000000</td>\n",
       "      <td id=\"T_e3c06_row1_col2\" class=\"data row1 col2\" >0.142969</td>\n",
       "      <td id=\"T_e3c06_row1_col3\" class=\"data row1 col3\" >-0.002748</td>\n",
       "      <td id=\"T_e3c06_row1_col4\" class=\"data row1 col4\" >-0.020711</td>\n",
       "      <td id=\"T_e3c06_row1_col5\" class=\"data row1 col5\" >-0.003500</td>\n",
       "      <td id=\"T_e3c06_row1_col6\" class=\"data row1 col6\" >-0.025843</td>\n",
       "      <td id=\"T_e3c06_row1_col7\" class=\"data row1 col7\" >0.008306</td>\n",
       "      <td id=\"T_e3c06_row1_col8\" class=\"data row1 col8\" >0.027240</td>\n",
       "      <td id=\"T_e3c06_row1_col9\" class=\"data row1 col9\" >-0.026001</td>\n",
       "      <td id=\"T_e3c06_row1_col10\" class=\"data row1 col10\" >-0.007130</td>\n",
       "      <td id=\"T_e3c06_row1_col11\" class=\"data row1 col11\" >-0.607308</td>\n",
       "      <td id=\"T_e3c06_row1_col12\" class=\"data row1 col12\" >0.013400</td>\n",
       "      <td id=\"T_e3c06_row1_col13\" class=\"data row1 col13\" >-0.011809</td>\n",
       "      <td id=\"T_e3c06_row1_col14\" class=\"data row1 col14\" >-0.002200</td>\n",
       "      <td id=\"T_e3c06_row1_col15\" class=\"data row1 col15\" >-0.025318</td>\n",
       "    </tr>\n",
       "    <tr>\n",
       "      <th id=\"T_e3c06_level0_row2\" class=\"row_heading level0 row2\" >MaturityDate</th>\n",
       "      <td id=\"T_e3c06_row2_col0\" class=\"data row2 col0\" >0.000276</td>\n",
       "      <td id=\"T_e3c06_row2_col1\" class=\"data row2 col1\" >0.142969</td>\n",
       "      <td id=\"T_e3c06_row2_col2\" class=\"data row2 col2\" >1.000000</td>\n",
       "      <td id=\"T_e3c06_row2_col3\" class=\"data row2 col3\" >-0.002322</td>\n",
       "      <td id=\"T_e3c06_row2_col4\" class=\"data row2 col4\" >-0.002237</td>\n",
       "      <td id=\"T_e3c06_row2_col5\" class=\"data row2 col5\" >0.003215</td>\n",
       "      <td id=\"T_e3c06_row2_col6\" class=\"data row2 col6\" >-0.001630</td>\n",
       "      <td id=\"T_e3c06_row2_col7\" class=\"data row2 col7\" >0.028061</td>\n",
       "      <td id=\"T_e3c06_row2_col8\" class=\"data row2 col8\" >0.015627</td>\n",
       "      <td id=\"T_e3c06_row2_col9\" class=\"data row2 col9\" >-0.001869</td>\n",
       "      <td id=\"T_e3c06_row2_col10\" class=\"data row2 col10\" >0.001970</td>\n",
       "      <td id=\"T_e3c06_row2_col11\" class=\"data row2 col11\" >0.680805</td>\n",
       "      <td id=\"T_e3c06_row2_col12\" class=\"data row2 col12\" >-0.005878</td>\n",
       "      <td id=\"T_e3c06_row2_col13\" class=\"data row2 col13\" >0.002049</td>\n",
       "      <td id=\"T_e3c06_row2_col14\" class=\"data row2 col14\" >0.005997</td>\n",
       "      <td id=\"T_e3c06_row2_col15\" class=\"data row2 col15\" >-0.002862</td>\n",
       "    </tr>\n",
       "    <tr>\n",
       "      <th id=\"T_e3c06_level0_row3\" class=\"row_heading level0 row3\" >MSA</th>\n",
       "      <td id=\"T_e3c06_row3_col0\" class=\"data row3 col0\" >0.018790</td>\n",
       "      <td id=\"T_e3c06_row3_col1\" class=\"data row3 col1\" >-0.002748</td>\n",
       "      <td id=\"T_e3c06_row3_col2\" class=\"data row3 col2\" >-0.002322</td>\n",
       "      <td id=\"T_e3c06_row3_col3\" class=\"data row3 col3\" >1.000000</td>\n",
       "      <td id=\"T_e3c06_row3_col4\" class=\"data row3 col4\" >-0.045408</td>\n",
       "      <td id=\"T_e3c06_row3_col5\" class=\"data row3 col5\" >-0.007079</td>\n",
       "      <td id=\"T_e3c06_row3_col6\" class=\"data row3 col6\" >-0.053075</td>\n",
       "      <td id=\"T_e3c06_row3_col7\" class=\"data row3 col7\" >0.019295</td>\n",
       "      <td id=\"T_e3c06_row3_col8\" class=\"data row3 col8\" >0.067173</td>\n",
       "      <td id=\"T_e3c06_row3_col9\" class=\"data row3 col9\" >-0.052718</td>\n",
       "      <td id=\"T_e3c06_row3_col10\" class=\"data row3 col10\" >0.014915</td>\n",
       "      <td id=\"T_e3c06_row3_col11\" class=\"data row3 col11\" >0.000126</td>\n",
       "      <td id=\"T_e3c06_row3_col12\" class=\"data row3 col12\" >0.027608</td>\n",
       "      <td id=\"T_e3c06_row3_col13\" class=\"data row3 col13\" >-0.013179</td>\n",
       "      <td id=\"T_e3c06_row3_col14\" class=\"data row3 col14\" >-0.020813</td>\n",
       "      <td id=\"T_e3c06_row3_col15\" class=\"data row3 col15\" >-0.021282</td>\n",
       "    </tr>\n",
       "    <tr>\n",
       "      <th id=\"T_e3c06_level0_row4\" class=\"row_heading level0 row4\" >MIP</th>\n",
       "      <td id=\"T_e3c06_row4_col0\" class=\"data row4 col0\" >-0.205051</td>\n",
       "      <td id=\"T_e3c06_row4_col1\" class=\"data row4 col1\" >-0.020711</td>\n",
       "      <td id=\"T_e3c06_row4_col2\" class=\"data row4 col2\" >-0.002237</td>\n",
       "      <td id=\"T_e3c06_row4_col3\" class=\"data row4 col3\" >-0.045408</td>\n",
       "      <td id=\"T_e3c06_row4_col4\" class=\"data row4 col4\" >1.000000</td>\n",
       "      <td id=\"T_e3c06_row4_col5\" class=\"data row4 col5\" >-0.042235</td>\n",
       "      <td id=\"T_e3c06_row4_col6\" class=\"data row4 col6\" >0.694572</td>\n",
       "      <td id=\"T_e3c06_row4_col7\" class=\"data row4 col7\" >0.087683</td>\n",
       "      <td id=\"T_e3c06_row4_col8\" class=\"data row4 col8\" >0.006784</td>\n",
       "      <td id=\"T_e3c06_row4_col9\" class=\"data row4 col9\" >0.695674</td>\n",
       "      <td id=\"T_e3c06_row4_col10\" class=\"data row4 col10\" >0.124345</td>\n",
       "      <td id=\"T_e3c06_row4_col11\" class=\"data row4 col11\" >0.014865</td>\n",
       "      <td id=\"T_e3c06_row4_col12\" class=\"data row4 col12\" >-0.028636</td>\n",
       "      <td id=\"T_e3c06_row4_col13\" class=\"data row4 col13\" >0.059634</td>\n",
       "      <td id=\"T_e3c06_row4_col14\" class=\"data row4 col14\" >0.050806</td>\n",
       "      <td id=\"T_e3c06_row4_col15\" class=\"data row4 col15\" >-0.087874</td>\n",
       "    </tr>\n",
       "    <tr>\n",
       "      <th id=\"T_e3c06_level0_row5\" class=\"row_heading level0 row5\" >Units</th>\n",
       "      <td id=\"T_e3c06_row5_col0\" class=\"data row5 col0\" >0.014432</td>\n",
       "      <td id=\"T_e3c06_row5_col1\" class=\"data row5 col1\" >-0.003500</td>\n",
       "      <td id=\"T_e3c06_row5_col2\" class=\"data row5 col2\" >0.003215</td>\n",
       "      <td id=\"T_e3c06_row5_col3\" class=\"data row5 col3\" >-0.007079</td>\n",
       "      <td id=\"T_e3c06_row5_col4\" class=\"data row5 col4\" >-0.042235</td>\n",
       "      <td id=\"T_e3c06_row5_col5\" class=\"data row5 col5\" >1.000000</td>\n",
       "      <td id=\"T_e3c06_row5_col6\" class=\"data row5 col6\" >-0.045760</td>\n",
       "      <td id=\"T_e3c06_row5_col7\" class=\"data row5 col7\" >0.011544</td>\n",
       "      <td id=\"T_e3c06_row5_col8\" class=\"data row5 col8\" >0.044192</td>\n",
       "      <td id=\"T_e3c06_row5_col9\" class=\"data row5 col9\" >-0.045660</td>\n",
       "      <td id=\"T_e3c06_row5_col10\" class=\"data row5 col10\" >0.072920</td>\n",
       "      <td id=\"T_e3c06_row5_col11\" class=\"data row5 col11\" >0.005287</td>\n",
       "      <td id=\"T_e3c06_row5_col12\" class=\"data row5 col12\" >-0.019498</td>\n",
       "      <td id=\"T_e3c06_row5_col13\" class=\"data row5 col13\" >0.009729</td>\n",
       "      <td id=\"T_e3c06_row5_col14\" class=\"data row5 col14\" >-0.005298</td>\n",
       "      <td id=\"T_e3c06_row5_col15\" class=\"data row5 col15\" >0.025489</td>\n",
       "    </tr>\n",
       "    <tr>\n",
       "      <th id=\"T_e3c06_level0_row6\" class=\"row_heading level0 row6\" >OCLTV</th>\n",
       "      <td id=\"T_e3c06_row6_col0\" class=\"data row6 col0\" >-0.244774</td>\n",
       "      <td id=\"T_e3c06_row6_col1\" class=\"data row6 col1\" >-0.025843</td>\n",
       "      <td id=\"T_e3c06_row6_col2\" class=\"data row6 col2\" >-0.001630</td>\n",
       "      <td id=\"T_e3c06_row6_col3\" class=\"data row6 col3\" >-0.053075</td>\n",
       "      <td id=\"T_e3c06_row6_col4\" class=\"data row6 col4\" >0.694572</td>\n",
       "      <td id=\"T_e3c06_row6_col5\" class=\"data row6 col5\" >-0.045760</td>\n",
       "      <td id=\"T_e3c06_row6_col6\" class=\"data row6 col6\" >1.000000</td>\n",
       "      <td id=\"T_e3c06_row6_col7\" class=\"data row6 col7\" >0.113431</td>\n",
       "      <td id=\"T_e3c06_row6_col8\" class=\"data row6 col8\" >0.106054</td>\n",
       "      <td id=\"T_e3c06_row6_col9\" class=\"data row6 col9\" >0.999469</td>\n",
       "      <td id=\"T_e3c06_row6_col10\" class=\"data row6 col10\" >0.095516</td>\n",
       "      <td id=\"T_e3c06_row6_col11\" class=\"data row6 col11\" >0.018734</td>\n",
       "      <td id=\"T_e3c06_row6_col12\" class=\"data row6 col12\" >-0.019324</td>\n",
       "      <td id=\"T_e3c06_row6_col13\" class=\"data row6 col13\" >0.065472</td>\n",
       "      <td id=\"T_e3c06_row6_col14\" class=\"data row6 col14\" >0.059971</td>\n",
       "      <td id=\"T_e3c06_row6_col15\" class=\"data row6 col15\" >-0.094359</td>\n",
       "    </tr>\n",
       "    <tr>\n",
       "      <th id=\"T_e3c06_level0_row7\" class=\"row_heading level0 row7\" >DTI</th>\n",
       "      <td id=\"T_e3c06_row7_col0\" class=\"data row7 col0\" >-0.133943</td>\n",
       "      <td id=\"T_e3c06_row7_col1\" class=\"data row7 col1\" >0.008306</td>\n",
       "      <td id=\"T_e3c06_row7_col2\" class=\"data row7 col2\" >0.028061</td>\n",
       "      <td id=\"T_e3c06_row7_col3\" class=\"data row7 col3\" >0.019295</td>\n",
       "      <td id=\"T_e3c06_row7_col4\" class=\"data row7 col4\" >0.087683</td>\n",
       "      <td id=\"T_e3c06_row7_col5\" class=\"data row7 col5\" >0.011544</td>\n",
       "      <td id=\"T_e3c06_row7_col6\" class=\"data row7 col6\" >0.113431</td>\n",
       "      <td id=\"T_e3c06_row7_col7\" class=\"data row7 col7\" >1.000000</td>\n",
       "      <td id=\"T_e3c06_row7_col8\" class=\"data row7 col8\" >0.096204</td>\n",
       "      <td id=\"T_e3c06_row7_col9\" class=\"data row7 col9\" >0.113161</td>\n",
       "      <td id=\"T_e3c06_row7_col10\" class=\"data row7 col10\" >0.050155</td>\n",
       "      <td id=\"T_e3c06_row7_col11\" class=\"data row7 col11\" >0.016289</td>\n",
       "      <td id=\"T_e3c06_row7_col12\" class=\"data row7 col12\" >-0.102571</td>\n",
       "      <td id=\"T_e3c06_row7_col13\" class=\"data row7 col13\" >0.052781</td>\n",
       "      <td id=\"T_e3c06_row7_col14\" class=\"data row7 col14\" >0.037610</td>\n",
       "      <td id=\"T_e3c06_row7_col15\" class=\"data row7 col15\" >-0.048124</td>\n",
       "    </tr>\n",
       "    <tr>\n",
       "      <th id=\"T_e3c06_level0_row8\" class=\"row_heading level0 row8\" >OrigUPB</th>\n",
       "      <td id=\"T_e3c06_row8_col0\" class=\"data row8 col0\" >-0.007092</td>\n",
       "      <td id=\"T_e3c06_row8_col1\" class=\"data row8 col1\" >0.027240</td>\n",
       "      <td id=\"T_e3c06_row8_col2\" class=\"data row8 col2\" >0.015627</td>\n",
       "      <td id=\"T_e3c06_row8_col3\" class=\"data row8 col3\" >0.067173</td>\n",
       "      <td id=\"T_e3c06_row8_col4\" class=\"data row8 col4\" >0.006784</td>\n",
       "      <td id=\"T_e3c06_row8_col5\" class=\"data row8 col5\" >0.044192</td>\n",
       "      <td id=\"T_e3c06_row8_col6\" class=\"data row8 col6\" >0.106054</td>\n",
       "      <td id=\"T_e3c06_row8_col7\" class=\"data row8 col7\" >0.096204</td>\n",
       "      <td id=\"T_e3c06_row8_col8\" class=\"data row8 col8\" >1.000000</td>\n",
       "      <td id=\"T_e3c06_row8_col9\" class=\"data row8 col9\" >0.105505</td>\n",
       "      <td id=\"T_e3c06_row8_col10\" class=\"data row8 col10\" >-0.128391</td>\n",
       "      <td id=\"T_e3c06_row8_col11\" class=\"data row8 col11\" >-0.008013</td>\n",
       "      <td id=\"T_e3c06_row8_col12\" class=\"data row8 col12\" >0.209874</td>\n",
       "      <td id=\"T_e3c06_row8_col13\" class=\"data row8 col13\" >-0.067467</td>\n",
       "      <td id=\"T_e3c06_row8_col14\" class=\"data row8 col14\" >-0.066840</td>\n",
       "      <td id=\"T_e3c06_row8_col15\" class=\"data row8 col15\" >-0.211319</td>\n",
       "    </tr>\n",
       "    <tr>\n",
       "      <th id=\"T_e3c06_level0_row9\" class=\"row_heading level0 row9\" >LTV</th>\n",
       "      <td id=\"T_e3c06_row9_col0\" class=\"data row9 col0\" >-0.245055</td>\n",
       "      <td id=\"T_e3c06_row9_col1\" class=\"data row9 col1\" >-0.026001</td>\n",
       "      <td id=\"T_e3c06_row9_col2\" class=\"data row9 col2\" >-0.001869</td>\n",
       "      <td id=\"T_e3c06_row9_col3\" class=\"data row9 col3\" >-0.052718</td>\n",
       "      <td id=\"T_e3c06_row9_col4\" class=\"data row9 col4\" >0.695674</td>\n",
       "      <td id=\"T_e3c06_row9_col5\" class=\"data row9 col5\" >-0.045660</td>\n",
       "      <td id=\"T_e3c06_row9_col6\" class=\"data row9 col6\" >0.999469</td>\n",
       "      <td id=\"T_e3c06_row9_col7\" class=\"data row9 col7\" >0.113161</td>\n",
       "      <td id=\"T_e3c06_row9_col8\" class=\"data row9 col8\" >0.105505</td>\n",
       "      <td id=\"T_e3c06_row9_col9\" class=\"data row9 col9\" >1.000000</td>\n",
       "      <td id=\"T_e3c06_row9_col10\" class=\"data row9 col10\" >0.095769</td>\n",
       "      <td id=\"T_e3c06_row9_col11\" class=\"data row9 col11\" >0.018651</td>\n",
       "      <td id=\"T_e3c06_row9_col12\" class=\"data row9 col12\" >-0.019502</td>\n",
       "      <td id=\"T_e3c06_row9_col13\" class=\"data row9 col13\" >0.065677</td>\n",
       "      <td id=\"T_e3c06_row9_col14\" class=\"data row9 col14\" >0.060090</td>\n",
       "      <td id=\"T_e3c06_row9_col15\" class=\"data row9 col15\" >-0.094661</td>\n",
       "    </tr>\n",
       "    <tr>\n",
       "      <th id=\"T_e3c06_level0_row10\" class=\"row_heading level0 row10\" >OrigInterestRate</th>\n",
       "      <td id=\"T_e3c06_row10_col0\" class=\"data row10 col0\" >-0.141783</td>\n",
       "      <td id=\"T_e3c06_row10_col1\" class=\"data row10 col1\" >-0.007130</td>\n",
       "      <td id=\"T_e3c06_row10_col2\" class=\"data row10 col2\" >0.001970</td>\n",
       "      <td id=\"T_e3c06_row10_col3\" class=\"data row10 col3\" >0.014915</td>\n",
       "      <td id=\"T_e3c06_row10_col4\" class=\"data row10 col4\" >0.124345</td>\n",
       "      <td id=\"T_e3c06_row10_col5\" class=\"data row10 col5\" >0.072920</td>\n",
       "      <td id=\"T_e3c06_row10_col6\" class=\"data row10 col6\" >0.095516</td>\n",
       "      <td id=\"T_e3c06_row10_col7\" class=\"data row10 col7\" >0.050155</td>\n",
       "      <td id=\"T_e3c06_row10_col8\" class=\"data row10 col8\" >-0.128391</td>\n",
       "      <td id=\"T_e3c06_row10_col9\" class=\"data row10 col9\" >0.095769</td>\n",
       "      <td id=\"T_e3c06_row10_col10\" class=\"data row10 col10\" >1.000000</td>\n",
       "      <td id=\"T_e3c06_row10_col11\" class=\"data row10 col11\" >0.011327</td>\n",
       "      <td id=\"T_e3c06_row10_col12\" class=\"data row10 col12\" >-0.046799</td>\n",
       "      <td id=\"T_e3c06_row10_col13\" class=\"data row10 col13\" >0.059525</td>\n",
       "      <td id=\"T_e3c06_row10_col14\" class=\"data row10 col14\" >0.050837</td>\n",
       "      <td id=\"T_e3c06_row10_col15\" class=\"data row10 col15\" >-0.120867</td>\n",
       "    </tr>\n",
       "    <tr>\n",
       "      <th id=\"T_e3c06_level0_row11\" class=\"row_heading level0 row11\" >OrigLoanTerm</th>\n",
       "      <td id=\"T_e3c06_row11_col0\" class=\"data row11 col0\" >-0.012185</td>\n",
       "      <td id=\"T_e3c06_row11_col1\" class=\"data row11 col1\" >-0.607308</td>\n",
       "      <td id=\"T_e3c06_row11_col2\" class=\"data row11 col2\" >0.680805</td>\n",
       "      <td id=\"T_e3c06_row11_col3\" class=\"data row11 col3\" >0.000126</td>\n",
       "      <td id=\"T_e3c06_row11_col4\" class=\"data row11 col4\" >0.014865</td>\n",
       "      <td id=\"T_e3c06_row11_col5\" class=\"data row11 col5\" >0.005287</td>\n",
       "      <td id=\"T_e3c06_row11_col6\" class=\"data row11 col6\" >0.018734</td>\n",
       "      <td id=\"T_e3c06_row11_col7\" class=\"data row11 col7\" >0.016289</td>\n",
       "      <td id=\"T_e3c06_row11_col8\" class=\"data row11 col8\" >-0.008013</td>\n",
       "      <td id=\"T_e3c06_row11_col9\" class=\"data row11 col9\" >0.018651</td>\n",
       "      <td id=\"T_e3c06_row11_col10\" class=\"data row11 col10\" >0.011327</td>\n",
       "      <td id=\"T_e3c06_row11_col11\" class=\"data row11 col11\" >1.000000</td>\n",
       "      <td id=\"T_e3c06_row11_col12\" class=\"data row11 col12\" >-0.014397</td>\n",
       "      <td id=\"T_e3c06_row11_col13\" class=\"data row11 col13\" >0.010451</td>\n",
       "      <td id=\"T_e3c06_row11_col14\" class=\"data row11 col14\" >0.006711</td>\n",
       "      <td id=\"T_e3c06_row11_col15\" class=\"data row11 col15\" >0.016636</td>\n",
       "    </tr>\n",
       "    <tr>\n",
       "      <th id=\"T_e3c06_level0_row12\" class=\"row_heading level0 row12\" >NumBorrowers</th>\n",
       "      <td id=\"T_e3c06_row12_col0\" class=\"data row12 col0\" >-0.047965</td>\n",
       "      <td id=\"T_e3c06_row12_col1\" class=\"data row12 col1\" >0.013400</td>\n",
       "      <td id=\"T_e3c06_row12_col2\" class=\"data row12 col2\" >-0.005878</td>\n",
       "      <td id=\"T_e3c06_row12_col3\" class=\"data row12 col3\" >0.027608</td>\n",
       "      <td id=\"T_e3c06_row12_col4\" class=\"data row12 col4\" >-0.028636</td>\n",
       "      <td id=\"T_e3c06_row12_col5\" class=\"data row12 col5\" >-0.019498</td>\n",
       "      <td id=\"T_e3c06_row12_col6\" class=\"data row12 col6\" >-0.019324</td>\n",
       "      <td id=\"T_e3c06_row12_col7\" class=\"data row12 col7\" >-0.102571</td>\n",
       "      <td id=\"T_e3c06_row12_col8\" class=\"data row12 col8\" >0.209874</td>\n",
       "      <td id=\"T_e3c06_row12_col9\" class=\"data row12 col9\" >-0.019502</td>\n",
       "      <td id=\"T_e3c06_row12_col10\" class=\"data row12 col10\" >-0.046799</td>\n",
       "      <td id=\"T_e3c06_row12_col11\" class=\"data row12 col11\" >-0.014397</td>\n",
       "      <td id=\"T_e3c06_row12_col12\" class=\"data row12 col12\" >1.000000</td>\n",
       "      <td id=\"T_e3c06_row12_col13\" class=\"data row12 col13\" >-0.071438</td>\n",
       "      <td id=\"T_e3c06_row12_col14\" class=\"data row12 col14\" >-0.048247</td>\n",
       "      <td id=\"T_e3c06_row12_col15\" class=\"data row12 col15\" >-0.049301</td>\n",
       "    </tr>\n",
       "    <tr>\n",
       "      <th id=\"T_e3c06_level0_row13\" class=\"row_heading level0 row13\" >EverDelinquent</th>\n",
       "      <td id=\"T_e3c06_row13_col0\" class=\"data row13 col0\" >-0.266820</td>\n",
       "      <td id=\"T_e3c06_row13_col1\" class=\"data row13 col1\" >-0.011809</td>\n",
       "      <td id=\"T_e3c06_row13_col2\" class=\"data row13 col2\" >0.002049</td>\n",
       "      <td id=\"T_e3c06_row13_col3\" class=\"data row13 col3\" >-0.013179</td>\n",
       "      <td id=\"T_e3c06_row13_col4\" class=\"data row13 col4\" >0.059634</td>\n",
       "      <td id=\"T_e3c06_row13_col5\" class=\"data row13 col5\" >0.009729</td>\n",
       "      <td id=\"T_e3c06_row13_col6\" class=\"data row13 col6\" >0.065472</td>\n",
       "      <td id=\"T_e3c06_row13_col7\" class=\"data row13 col7\" >0.052781</td>\n",
       "      <td id=\"T_e3c06_row13_col8\" class=\"data row13 col8\" >-0.067467</td>\n",
       "      <td id=\"T_e3c06_row13_col9\" class=\"data row13 col9\" >0.065677</td>\n",
       "      <td id=\"T_e3c06_row13_col10\" class=\"data row13 col10\" >0.059525</td>\n",
       "      <td id=\"T_e3c06_row13_col11\" class=\"data row13 col11\" >0.010451</td>\n",
       "      <td id=\"T_e3c06_row13_col12\" class=\"data row13 col12\" >-0.071438</td>\n",
       "      <td id=\"T_e3c06_row13_col13\" class=\"data row13 col13\" >1.000000</td>\n",
       "      <td id=\"T_e3c06_row13_col14\" class=\"data row13 col14\" >0.419734</td>\n",
       "      <td id=\"T_e3c06_row13_col15\" class=\"data row13 col15\" >0.232464</td>\n",
       "    </tr>\n",
       "    <tr>\n",
       "      <th id=\"T_e3c06_level0_row14\" class=\"row_heading level0 row14\" >MonthsDelinquent</th>\n",
       "      <td id=\"T_e3c06_row14_col0\" class=\"data row14 col0\" >-0.190184</td>\n",
       "      <td id=\"T_e3c06_row14_col1\" class=\"data row14 col1\" >-0.002200</td>\n",
       "      <td id=\"T_e3c06_row14_col2\" class=\"data row14 col2\" >0.005997</td>\n",
       "      <td id=\"T_e3c06_row14_col3\" class=\"data row14 col3\" >-0.020813</td>\n",
       "      <td id=\"T_e3c06_row14_col4\" class=\"data row14 col4\" >0.050806</td>\n",
       "      <td id=\"T_e3c06_row14_col5\" class=\"data row14 col5\" >-0.005298</td>\n",
       "      <td id=\"T_e3c06_row14_col6\" class=\"data row14 col6\" >0.059971</td>\n",
       "      <td id=\"T_e3c06_row14_col7\" class=\"data row14 col7\" >0.037610</td>\n",
       "      <td id=\"T_e3c06_row14_col8\" class=\"data row14 col8\" >-0.066840</td>\n",
       "      <td id=\"T_e3c06_row14_col9\" class=\"data row14 col9\" >0.060090</td>\n",
       "      <td id=\"T_e3c06_row14_col10\" class=\"data row14 col10\" >0.050837</td>\n",
       "      <td id=\"T_e3c06_row14_col11\" class=\"data row14 col11\" >0.006711</td>\n",
       "      <td id=\"T_e3c06_row14_col12\" class=\"data row14 col12\" >-0.048247</td>\n",
       "      <td id=\"T_e3c06_row14_col13\" class=\"data row14 col13\" >0.419734</td>\n",
       "      <td id=\"T_e3c06_row14_col14\" class=\"data row14 col14\" >1.000000</td>\n",
       "      <td id=\"T_e3c06_row14_col15\" class=\"data row14 col15\" >0.306690</td>\n",
       "    </tr>\n",
       "    <tr>\n",
       "      <th id=\"T_e3c06_level0_row15\" class=\"row_heading level0 row15\" >MonthsInRepayment</th>\n",
       "      <td id=\"T_e3c06_row15_col0\" class=\"data row15 col0\" >0.001895</td>\n",
       "      <td id=\"T_e3c06_row15_col1\" class=\"data row15 col1\" >-0.025318</td>\n",
       "      <td id=\"T_e3c06_row15_col2\" class=\"data row15 col2\" >-0.002862</td>\n",
       "      <td id=\"T_e3c06_row15_col3\" class=\"data row15 col3\" >-0.021282</td>\n",
       "      <td id=\"T_e3c06_row15_col4\" class=\"data row15 col4\" >-0.087874</td>\n",
       "      <td id=\"T_e3c06_row15_col5\" class=\"data row15 col5\" >0.025489</td>\n",
       "      <td id=\"T_e3c06_row15_col6\" class=\"data row15 col6\" >-0.094359</td>\n",
       "      <td id=\"T_e3c06_row15_col7\" class=\"data row15 col7\" >-0.048124</td>\n",
       "      <td id=\"T_e3c06_row15_col8\" class=\"data row15 col8\" >-0.211319</td>\n",
       "      <td id=\"T_e3c06_row15_col9\" class=\"data row15 col9\" >-0.094661</td>\n",
       "      <td id=\"T_e3c06_row15_col10\" class=\"data row15 col10\" >-0.120867</td>\n",
       "      <td id=\"T_e3c06_row15_col11\" class=\"data row15 col11\" >0.016636</td>\n",
       "      <td id=\"T_e3c06_row15_col12\" class=\"data row15 col12\" >-0.049301</td>\n",
       "      <td id=\"T_e3c06_row15_col13\" class=\"data row15 col13\" >0.232464</td>\n",
       "      <td id=\"T_e3c06_row15_col14\" class=\"data row15 col14\" >0.306690</td>\n",
       "      <td id=\"T_e3c06_row15_col15\" class=\"data row15 col15\" >1.000000</td>\n",
       "    </tr>\n",
       "  </tbody>\n",
       "</table>\n"
      ],
      "text/plain": [
       "<pandas.io.formats.style.Styler at 0x324f2d010>"
      ]
     },
     "execution_count": 138,
     "metadata": {},
     "output_type": "execute_result"
    }
   ],
   "source": [
    "numeric_df = df.select_dtypes(include=[np.number])\n",
    "numeric_df.corr().T.style.background_gradient(cmap='viridis')\n"
   ]
  },
  {
   "cell_type": "markdown",
   "metadata": {},
   "source": [
    "#### New colums"
   ]
  },
  {
   "cell_type": "code",
   "execution_count": 139,
   "metadata": {},
   "outputs": [],
   "source": [
    "FTH_Mapping = {'Y': 1, 'N': 0}\n",
    "df['FirstTimeHomebuyer'] = df['FirstTimeHomebuyer'].map(FTH_Mapping)"
   ]
  },
  {
   "cell_type": "code",
   "execution_count": 140,
   "metadata": {},
   "outputs": [],
   "source": [
    "O_Mapping = {'P': 1, 'S': 2, 'I': 3}\n",
    "df['Occupancy'] = df['Occupancy'].map(O_Mapping)"
   ]
  },
  {
   "cell_type": "code",
   "execution_count": 141,
   "metadata": {},
   "outputs": [],
   "source": [
    "PPM_Mapping = {'Y': 1, 'N': 0}\n",
    "df['PPM'] = df['PPM'].map(PPM_Mapping)"
   ]
  },
  {
   "cell_type": "code",
   "execution_count": 142,
   "metadata": {},
   "outputs": [],
   "source": [
    "PropertyType_Mapping = {'CP': 1, 'CO': 2, 'PU': 3, 'SF': 4, 'MH': 5}\n",
    "df['PropertyType'] = df['PropertyType'].map(PropertyType_Mapping)"
   ]
  },
  {
   "cell_type": "code",
   "execution_count": 143,
   "metadata": {},
   "outputs": [],
   "source": [
    "LoanPurpose_Mapping = {'C': 1, 'N': 2, 'R': 3, 'P': 4}\n",
    "df['LoanPurpose'] = df['LoanPurpose'].map(LoanPurpose_Mapping)"
   ]
  },
  {
   "cell_type": "code",
   "execution_count": 144,
   "metadata": {},
   "outputs": [
    {
     "name": "stdout",
     "output_type": "stream",
     "text": [
      "<class 'pandas.core.frame.DataFrame'>\n",
      "Index: 290260 entries, 1189 to 291450\n",
      "Data columns (total 21 columns):\n",
      " #   Column              Non-Null Count   Dtype  \n",
      "---  ------              --------------   -----  \n",
      " 0   CreditScore         290260 non-null  int64  \n",
      " 1   FirstPaymentDate    290260 non-null  int64  \n",
      " 2   FirstTimeHomebuyer  290260 non-null  int64  \n",
      " 3   MaturityDate        290260 non-null  int64  \n",
      " 4   MSA                 290260 non-null  int64  \n",
      " 5   MIP                 290260 non-null  int64  \n",
      " 6   Units               290260 non-null  int64  \n",
      " 7   Occupancy           15215 non-null   float64\n",
      " 8   OCLTV               290260 non-null  int64  \n",
      " 9   DTI                 290260 non-null  int64  \n",
      " 10  OrigUPB             290260 non-null  int64  \n",
      " 11  LTV                 290260 non-null  int64  \n",
      " 12  OrigInterestRate    290260 non-null  float64\n",
      " 13  PPM                 290260 non-null  int64  \n",
      " 14  PropertyType        290155 non-null  float64\n",
      " 15  LoanPurpose         290260 non-null  int64  \n",
      " 16  OrigLoanTerm        290260 non-null  int64  \n",
      " 17  NumBorrowers        290260 non-null  int64  \n",
      " 18  EverDelinquent      290260 non-null  int64  \n",
      " 19  MonthsDelinquent    290260 non-null  int64  \n",
      " 20  MonthsInRepayment   290260 non-null  int64  \n",
      "dtypes: float64(3), int64(18)\n",
      "memory usage: 48.7 MB\n"
     ]
    }
   ],
   "source": [
    "df.info()"
   ]
  },
  {
   "cell_type": "code",
   "execution_count": 145,
   "metadata": {},
   "outputs": [
    {
     "name": "stdout",
     "output_type": "stream",
     "text": [
      "Non-numeric columns:\n",
      "Index([], dtype='object')\n"
     ]
    }
   ],
   "source": [
    "# Identify non-numeric columns\n",
    "non_numeric_columns = df.select_dtypes(exclude=['number']).columns\n",
    "print(\"Non-numeric columns:\")\n",
    "print(non_numeric_columns)\n"
   ]
  },
  {
   "cell_type": "code",
   "execution_count": 146,
   "metadata": {},
   "outputs": [
    {
     "data": {
      "text/plain": [
       "array([163, 165,  43,  65,  42,  55,  39, 133,  57,   9,  53,  64,  48,\n",
       "        72, 156,   4,  52,  44,  56,  28,  16,  63,  74,  45,  50,  35,\n",
       "        17, 211,  34,  60,  24,   5, 212,  36,  19,  62,   7,  58, 183,\n",
       "        91,  95,  11,  40, 182, 209, 132, 112,  33,  29,  38,  46, 210,\n",
       "        54,  31,   2,  23,  32, 208,  59,  15,  47,  21, 193, 206,  70,\n",
       "        14, 148,  77, 169,  25, 136,  49,  22, 135,  37,  41,  26,  66,\n",
       "       166,  73,  86,  81, 178,  27,  67,  61,  89,   8, 124, 129,  12,\n",
       "        30, 186,  10,  93,  78,  69, 127,   6, 101,  51, 109,  20,  68,\n",
       "       121,  94, 168,  18, 189, 130, 194, 190, 103, 158, 177, 198, 143,\n",
       "       162,  92, 199,  71,  76,  75, 202, 174, 100,  84, 192, 172, 167,\n",
       "       137, 146, 104,  90, 119,   1, 164,  99, 201, 184, 123, 125, 118,\n",
       "       120,  80, 111, 139,  13, 205, 141,  96, 144, 116,  79, 149, 105,\n",
       "       197,  82, 108, 145, 142,  85, 175, 171,  88, 106, 157, 160,  83,\n",
       "       154,  87, 173, 113, 110, 176, 181, 204, 107, 153,  97, 117, 138,\n",
       "       191, 134, 203, 128, 207,   3, 188, 170, 131, 114,  98, 185, 151,\n",
       "       102, 140, 126, 196, 122, 159, 150, 180, 115, 152, 195, 179, 200,\n",
       "       147, 155, 161, 187])"
      ]
     },
     "execution_count": 146,
     "metadata": {},
     "output_type": "execute_result"
    }
   ],
   "source": [
    "df['MonthsInRepayment'].unique()"
   ]
  },
  {
   "cell_type": "markdown",
   "metadata": {},
   "source": [
    "##### Prepayment Spalte"
   ]
  },
  {
   "cell_type": "markdown",
   "metadata": {},
   "source": [
    "Schwellenwert festlegen, z. B. wenn die Anzahl der MonthsInRepayment kleiner als 30% der gesamten Laufzeit (OrigLoanTerm) ist, setzen wir Prepayment auf 1.\n",
    "\n",
    "Basierend auf EMI_Remains (die verbleibenden monatlichen Zahlungen) eine Vorfälligkeit identifizieren, wenn z. B. die Restlaufzeit deutlich geringer ist als erwartet.\n",
    "Dadurch haben wir nun mehr Varianz in der Zielvariable."
   ]
  },
  {
   "cell_type": "code",
   "execution_count": 147,
   "metadata": {},
   "outputs": [],
   "source": [
    "df['Prepayment'] = df.apply(lambda row: 0 if row['MonthsInRepayment'] < (0.3 * row['OrigLoanTerm']) else 1, axis=1)"
   ]
  },
  {
   "cell_type": "code",
   "execution_count": 148,
   "metadata": {},
   "outputs": [
    {
     "data": {
      "text/plain": [
       "array([1, 0])"
      ]
     },
     "execution_count": 148,
     "metadata": {},
     "output_type": "execute_result"
    }
   ],
   "source": [
    "df['Prepayment'].unique()"
   ]
  },
  {
   "cell_type": "code",
   "execution_count": 149,
   "metadata": {},
   "outputs": [
    {
     "data": {
      "text/plain": [
       "Prepayment\n",
       "0    250547\n",
       "1     39713\n",
       "Name: count, dtype: int64"
      ]
     },
     "execution_count": 149,
     "metadata": {},
     "output_type": "execute_result"
    }
   ],
   "source": [
    "df['Prepayment'].value_counts()"
   ]
  },
  {
   "cell_type": "markdown",
   "metadata": {},
   "source": [
    "NaN Werte finden"
   ]
  },
  {
   "cell_type": "code",
   "execution_count": 150,
   "metadata": {},
   "outputs": [
    {
     "data": {
      "text/plain": [
       "CreditScore                0\n",
       "FirstPaymentDate           0\n",
       "FirstTimeHomebuyer         0\n",
       "MaturityDate               0\n",
       "MSA                        0\n",
       "MIP                        0\n",
       "Units                      0\n",
       "Occupancy             275045\n",
       "OCLTV                      0\n",
       "DTI                        0\n",
       "OrigUPB                    0\n",
       "LTV                        0\n",
       "OrigInterestRate           0\n",
       "PPM                        0\n",
       "PropertyType             105\n",
       "LoanPurpose                0\n",
       "OrigLoanTerm               0\n",
       "NumBorrowers               0\n",
       "EverDelinquent             0\n",
       "MonthsDelinquent           0\n",
       "MonthsInRepayment          0\n",
       "Prepayment                 0\n",
       "dtype: int64"
      ]
     },
     "execution_count": 150,
     "metadata": {},
     "output_type": "execute_result"
    }
   ],
   "source": [
    "df.isna().sum()"
   ]
  },
  {
   "cell_type": "markdown",
   "metadata": {},
   "source": [
    "NaN Werte mit dem mean value erserten"
   ]
  },
  {
   "cell_type": "code",
   "execution_count": 151,
   "metadata": {},
   "outputs": [],
   "source": [
    "# Impute missing values using the mode\n",
    "imp_mode = SimpleImputer(missing_values=np.nan, strategy='most_frequent')\n",
    "df['PropertyType'] = imp_mode.fit_transform(df[['PropertyType']])\n",
    "df['Occupancy'] = imp_mode.fit_transform(df[['Occupancy']])"
   ]
  },
  {
   "cell_type": "code",
   "execution_count": 152,
   "metadata": {},
   "outputs": [
    {
     "data": {
      "text/plain": [
       "CreditScore           0\n",
       "FirstPaymentDate      0\n",
       "FirstTimeHomebuyer    0\n",
       "MaturityDate          0\n",
       "MSA                   0\n",
       "MIP                   0\n",
       "Units                 0\n",
       "Occupancy             0\n",
       "OCLTV                 0\n",
       "DTI                   0\n",
       "OrigUPB               0\n",
       "LTV                   0\n",
       "OrigInterestRate      0\n",
       "PPM                   0\n",
       "PropertyType          0\n",
       "LoanPurpose           0\n",
       "OrigLoanTerm          0\n",
       "NumBorrowers          0\n",
       "EverDelinquent        0\n",
       "MonthsDelinquent      0\n",
       "MonthsInRepayment     0\n",
       "Prepayment            0\n",
       "dtype: int64"
      ]
     },
     "execution_count": 152,
     "metadata": {},
     "output_type": "execute_result"
    }
   ],
   "source": [
    "df.isna().sum()"
   ]
  },
  {
   "cell_type": "markdown",
   "metadata": {},
   "source": [
    "#### Plot to see which values we have graphically"
   ]
  },
  {
   "cell_type": "code",
   "execution_count": 153,
   "metadata": {},
   "outputs": [],
   "source": [
    "import matplotlib.pyplot as plt\n",
    "import seaborn as sns"
   ]
  },
  {
   "cell_type": "code",
   "execution_count": 154,
   "metadata": {},
   "outputs": [],
   "source": [
    "#numeric_df = df.select_dtypes(include=[np.number])\n",
    "\n",
    "#num_columns = len(numeric_df.columns)\n",
    "#nrows = (num_columns // 4) + 1 if num_columns % 4 != 0 else num_columns // 4\n",
    "#layout = (nrows, 4)\n",
    "\n",
    "#numeric_df.plot(kind=\"density\", subplots=True, layout=layout, fontsize=8, figsize=(18, 12), sharex=False)\n",
    "#plt.show() "
   ]
  },
  {
   "cell_type": "markdown",
   "metadata": {},
   "source": [
    "#### Description of each column of our dataset:\n",
    "    \n",
    "0.CreditScore :- Credit score of the client\n",
    "\n",
    "1.FirstPaymentDate :-The month and year that the first scheduled payment on the loan is due\n",
    "\n",
    "2.FirstTimeHomebuyer :-The indicator denoting whether a borrower on the loan qualifies as a first-time homebuyer.\n",
    "“Not Available” will be indicated by 9. \n",
    "1 = Yes\n",
    "0 = No\n",
    "\n",
    "3.MaturityDate :-The maturity date of the mortgage\n",
    "\n",
    "4.MSA :-For reperforming, modified fixed-rate and modified step-rate loans, the dollar amount of the loan in the security \n",
    "as stated on the note at the time the loans were originated or modified.\n",
    "\n",
    "5.MIP(Mortgage Insurance Percent MI %):-The percentage of mortgage insurance coverage obtained at origination in effect at the time the security was \n",
    "issued.000= No MI\n",
    "999= Not Available\n",
    "\n",
    "6.Units:-The number of dwelling units in the mortgaged property at the time the loan was originated. “Not Available” will \n",
    "be indicated by 99. \n",
    "\n",
    "7.Occupancy:-occupancy status at the time the loan was originated.\n",
    "1= Primary Residence\n",
    "2= Second Home\n",
    "3= Investment Property\n",
    "\n",
    "8.OCLTV(outstanding loans at origination by the value of the property. ):-For reperforming, modified fixed-rate and modified step-rate loans, the ratio, expressed as a percentage, \n",
    "obtained by dividing the amount of all known outstanding loans at origination by the value of the property.\n",
    "Property value reflects either the lesser of the sales price or the appraised property value for a purchase, or the \n",
    "appraised property value for a refinance.\n",
    "999 = Not Available\n",
    "\n",
    "9.DTI(Dept_to_income) :-The ratio obtained by dividing the total monthly debt expense by the total monthly income of the borrower at the time the loan was originated or modified.This number is one way lenders measure your ability to manage the monthly payments to repay the money you plan to borrow.\n",
    "\n",
    "10.OrigUPB(unpaid principal balance):- For reperforming, modified fixed-rate and modified step-rate loans, the current non-interest bearing unpaid principal balance.\n",
    "\n",
    "11.LTV (Loan_to_value):- The ratio, expressed as a percentage, obtained by dividing the amount of the loan at origination by the value of  the property(Percentages less than 1% or greater than 998% will be disclosed as “Not Available,” indicated by 999. \n",
    "999 = Not Available).The higher your down payment, the lower your LTV ratio. Mortgage lenders may use the LTV in deciding whether to lend to you and to determine if they will require private mortgage insurance\n",
    "\n",
    "12.OrigInterestRate:- For reperforming, modified fixed-rate and modified step-rate loans, the interest rate of the loan as stated on the \n",
    "note at the time the loan was originated.\n",
    "If value <0 or >25, then the rate is considered not available (securities issued on or after 9/1/2017)\n",
    "\n",
    "13.PPM :-The indicator denoting whether the borrower is subject to a penalty for early payment of principal.\n",
    "1 = Yes\n",
    "0 = No\n",
    "\n",
    "14.PropertyType :;The classification describing the type of property that secures the loan. “Not Available” will be indicated by 99. \n",
    "1 = Cooperative\n",
    "2 = Condominium\n",
    "3 = Planned Unit Development\n",
    "4 = Single-Family\n",
    "5 = Manufactured Housing\n",
    "99 = Not Available\n",
    "\n",
    "15.LoanPurpose:-The classification describing the purpose of the loan.\n",
    "1 = Refinance - Cash Out\n",
    "2 = Refinance - No Cash Out\n",
    "3 = Refinance - Not Specified\n",
    "4 = Purchase\n",
    "9 = Not Available\n",
    "    \n",
    "16.OrigLoanTerm :-For reperforming, modified fixed-rate and modified step-rate loans, the number of months in which regularly \n",
    "scheduled borrower payments are due as stated on the note at the time the loan was originated.\n",
    "\n",
    "17.NumBorrowers:-The number of borrowers who, at the time the loan was originated, are obligated to repay the loan\n",
    "\n",
    "18.EverDelinquent:-Identify Delinquent .A mortgage becomes delinquent when the borrower has missed or been late with one or more payments\n",
    "    0 = Current\n",
    "    1 = 30-59\n",
    "    2 = 60-89\n",
    "    3 = 90-119\n",
    "    4 = 120+                \n",
    "\n",
    "19.MonthsDelinquent ( month science last Delinquent ):-For reperforming, modified and modified step-rate loans, the number of months for which a mortgage loan has been reported delinquent.\n",
    "\n",
    "20.MonthsInRepayment:-Repayment is the act of paying back money previously borrowed from a lende.\n",
    "\n",
    "21.FirstPayment_Year: Year of FirstPaymentDate.\n",
    "\n",
    "22.FirstPayment_Month: Month of FirstPaymentDate.\n",
    "\n",
    "23.MaturityDate_Year: Year of MaturityDate displayed as YYYY.\n",
    "\n",
    "24.MaturityDate_Month: Month of MaturityDate displayed as MM or M.\n",
    "\n",
    "25.EMI_Remains: OrigLoanTerm substracted by MonthsInRepayment, displayed in Months.\n",
    "\n",
    "26.EMI_Remains_Years: EMI_Remains displayed as Years.\n",
    "\n",
    "27.Current_Year: MaturityDate_Year substacted by EMI_Remains_Years, displayed as YYYY. (Current_Year of loan by substracting EMI_Remains_years from MaturityDate_year)\n",
    "\n",
    "28.OrigLoanTerm_Year: Tenure in Years of the Loan Term.\n",
    "\n",
    "29.OrigLoanTerm_Month: Tenure in Months of the Loan Term."
   ]
  },
  {
   "cell_type": "code",
   "execution_count": 155,
   "metadata": {},
   "outputs": [
    {
     "name": "stdout",
     "output_type": "stream",
     "text": [
      "<class 'pandas.core.frame.DataFrame'>\n",
      "Index: 290260 entries, 1189 to 291450\n",
      "Data columns (total 22 columns):\n",
      " #   Column              Non-Null Count   Dtype  \n",
      "---  ------              --------------   -----  \n",
      " 0   CreditScore         290260 non-null  int64  \n",
      " 1   FirstPaymentDate    290260 non-null  int64  \n",
      " 2   FirstTimeHomebuyer  290260 non-null  int64  \n",
      " 3   MaturityDate        290260 non-null  int64  \n",
      " 4   MSA                 290260 non-null  int64  \n",
      " 5   MIP                 290260 non-null  int64  \n",
      " 6   Units               290260 non-null  int64  \n",
      " 7   Occupancy           290260 non-null  float64\n",
      " 8   OCLTV               290260 non-null  int64  \n",
      " 9   DTI                 290260 non-null  int64  \n",
      " 10  OrigUPB             290260 non-null  int64  \n",
      " 11  LTV                 290260 non-null  int64  \n",
      " 12  OrigInterestRate    290260 non-null  float64\n",
      " 13  PPM                 290260 non-null  int64  \n",
      " 14  PropertyType        290260 non-null  float64\n",
      " 15  LoanPurpose         290260 non-null  int64  \n",
      " 16  OrigLoanTerm        290260 non-null  int64  \n",
      " 17  NumBorrowers        290260 non-null  int64  \n",
      " 18  EverDelinquent      290260 non-null  int64  \n",
      " 19  MonthsDelinquent    290260 non-null  int64  \n",
      " 20  MonthsInRepayment   290260 non-null  int64  \n",
      " 21  Prepayment          290260 non-null  int64  \n",
      "dtypes: float64(3), int64(19)\n",
      "memory usage: 50.9 MB\n"
     ]
    }
   ],
   "source": [
    "df.info()"
   ]
  },
  {
   "cell_type": "code",
   "execution_count": 156,
   "metadata": {},
   "outputs": [
    {
     "data": {
      "text/plain": [
       "array([4., 3., 2., 5., 1.])"
      ]
     },
     "execution_count": 156,
     "metadata": {},
     "output_type": "execute_result"
    }
   ],
   "source": [
    "df['PropertyType'].unique()"
   ]
  },
  {
   "cell_type": "code",
   "execution_count": 157,
   "metadata": {},
   "outputs": [],
   "source": [
    "df.to_csv('LoanExport_New.csv', index=False)"
   ]
  },
  {
   "cell_type": "code",
   "execution_count": 158,
   "metadata": {},
   "outputs": [
    {
     "name": "stdout",
     "output_type": "stream",
     "text": [
      "0.06160207986831665\n"
     ]
    }
   ],
   "source": [
    "end_time_prep = time.time()\n",
    "\n",
    "duration_analyse = (end_time_prep - start_time) / 60\n",
    "\n",
    "print (duration_analyse)"
   ]
  }
 ],
 "metadata": {
  "kernelspec": {
   "display_name": "base",
   "language": "python",
   "name": "python3"
  },
  "language_info": {
   "codemirror_mode": {
    "name": "ipython",
    "version": 3
   },
   "file_extension": ".py",
   "mimetype": "text/x-python",
   "name": "python",
   "nbconvert_exporter": "python",
   "pygments_lexer": "ipython3",
   "version": "3.12.7"
  }
 },
 "nbformat": 4,
 "nbformat_minor": 2
}
